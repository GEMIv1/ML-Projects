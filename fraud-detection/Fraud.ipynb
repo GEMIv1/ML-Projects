{
 "cells": [
  {
   "cell_type": "markdown",
   "id": "0d892fa1",
   "metadata": {},
   "source": [
    "# Loading the Data"
   ]
  },
  {
   "cell_type": "code",
   "execution_count": 23,
   "id": "6cc5538f",
   "metadata": {},
   "outputs": [
    {
     "name": "stderr",
     "output_type": "stream",
     "text": [
      "<>:8: SyntaxWarning: invalid escape sequence '\\M'\n",
      "<>:8: SyntaxWarning: invalid escape sequence '\\M'\n",
      "C:\\Users\\ahmed\\AppData\\Local\\Temp\\ipykernel_17240\\1719216289.py:8: SyntaxWarning: invalid escape sequence '\\M'\n",
      "  df = pd.read_csv('D:\\\\AI\\Machine Learning\\\\fraud-detection\\\\PS_20174392719_1491204439457_log.csv')\n"
     ]
    },
    {
     "data": {
      "text/html": [
       "<div>\n",
       "<style scoped>\n",
       "    .dataframe tbody tr th:only-of-type {\n",
       "        vertical-align: middle;\n",
       "    }\n",
       "\n",
       "    .dataframe tbody tr th {\n",
       "        vertical-align: top;\n",
       "    }\n",
       "\n",
       "    .dataframe thead th {\n",
       "        text-align: right;\n",
       "    }\n",
       "</style>\n",
       "<table border=\"1\" class=\"dataframe\">\n",
       "  <thead>\n",
       "    <tr style=\"text-align: right;\">\n",
       "      <th></th>\n",
       "      <th>step</th>\n",
       "      <th>type</th>\n",
       "      <th>amount</th>\n",
       "      <th>nameOrig</th>\n",
       "      <th>oldbalanceOrg</th>\n",
       "      <th>newbalanceOrig</th>\n",
       "      <th>nameDest</th>\n",
       "      <th>oldbalanceDest</th>\n",
       "      <th>newbalanceDest</th>\n",
       "      <th>isFraud</th>\n",
       "      <th>isFlaggedFraud</th>\n",
       "    </tr>\n",
       "  </thead>\n",
       "  <tbody>\n",
       "    <tr>\n",
       "      <th>0</th>\n",
       "      <td>1</td>\n",
       "      <td>PAYMENT</td>\n",
       "      <td>9839.64</td>\n",
       "      <td>C1231006815</td>\n",
       "      <td>170136.0</td>\n",
       "      <td>160296.36</td>\n",
       "      <td>M1979787155</td>\n",
       "      <td>0.0</td>\n",
       "      <td>0.0</td>\n",
       "      <td>0</td>\n",
       "      <td>0</td>\n",
       "    </tr>\n",
       "    <tr>\n",
       "      <th>1</th>\n",
       "      <td>1</td>\n",
       "      <td>PAYMENT</td>\n",
       "      <td>1864.28</td>\n",
       "      <td>C1666544295</td>\n",
       "      <td>21249.0</td>\n",
       "      <td>19384.72</td>\n",
       "      <td>M2044282225</td>\n",
       "      <td>0.0</td>\n",
       "      <td>0.0</td>\n",
       "      <td>0</td>\n",
       "      <td>0</td>\n",
       "    </tr>\n",
       "    <tr>\n",
       "      <th>2</th>\n",
       "      <td>1</td>\n",
       "      <td>TRANSFER</td>\n",
       "      <td>181.00</td>\n",
       "      <td>C1305486145</td>\n",
       "      <td>181.0</td>\n",
       "      <td>0.00</td>\n",
       "      <td>C553264065</td>\n",
       "      <td>0.0</td>\n",
       "      <td>0.0</td>\n",
       "      <td>1</td>\n",
       "      <td>0</td>\n",
       "    </tr>\n",
       "    <tr>\n",
       "      <th>3</th>\n",
       "      <td>1</td>\n",
       "      <td>CASH_OUT</td>\n",
       "      <td>181.00</td>\n",
       "      <td>C840083671</td>\n",
       "      <td>181.0</td>\n",
       "      <td>0.00</td>\n",
       "      <td>C38997010</td>\n",
       "      <td>21182.0</td>\n",
       "      <td>0.0</td>\n",
       "      <td>1</td>\n",
       "      <td>0</td>\n",
       "    </tr>\n",
       "    <tr>\n",
       "      <th>4</th>\n",
       "      <td>1</td>\n",
       "      <td>PAYMENT</td>\n",
       "      <td>11668.14</td>\n",
       "      <td>C2048537720</td>\n",
       "      <td>41554.0</td>\n",
       "      <td>29885.86</td>\n",
       "      <td>M1230701703</td>\n",
       "      <td>0.0</td>\n",
       "      <td>0.0</td>\n",
       "      <td>0</td>\n",
       "      <td>0</td>\n",
       "    </tr>\n",
       "  </tbody>\n",
       "</table>\n",
       "</div>"
      ],
      "text/plain": [
       "   step      type    amount     nameOrig  oldbalanceOrg  newbalanceOrig  \\\n",
       "0     1   PAYMENT   9839.64  C1231006815       170136.0       160296.36   \n",
       "1     1   PAYMENT   1864.28  C1666544295        21249.0        19384.72   \n",
       "2     1  TRANSFER    181.00  C1305486145          181.0            0.00   \n",
       "3     1  CASH_OUT    181.00   C840083671          181.0            0.00   \n",
       "4     1   PAYMENT  11668.14  C2048537720        41554.0        29885.86   \n",
       "\n",
       "      nameDest  oldbalanceDest  newbalanceDest  isFraud  isFlaggedFraud  \n",
       "0  M1979787155             0.0             0.0        0               0  \n",
       "1  M2044282225             0.0             0.0        0               0  \n",
       "2   C553264065             0.0             0.0        1               0  \n",
       "3    C38997010         21182.0             0.0        1               0  \n",
       "4  M1230701703             0.0             0.0        0               0  "
      ]
     },
     "execution_count": 23,
     "metadata": {},
     "output_type": "execute_result"
    }
   ],
   "source": [
    "import pandas as pd\n",
    "import numpy as np\n",
    "import seaborn as sns\n",
    "import matplotlib.pyplot as plt\n",
    "import warnings\n",
    "warnings.filterwarnings('ignore') \n",
    "\n",
    "df = pd.read_csv('D:\\\\AI\\Machine Learning\\\\fraud-detection\\\\PS_20174392719_1491204439457_log.csv')\n",
    "df.head()"
   ]
  },
  {
   "cell_type": "code",
   "execution_count": 24,
   "id": "ffcbb87a",
   "metadata": {},
   "outputs": [],
   "source": [
    "df.rename(columns={'newbalanceOrig':'newbalanceOrg','nameOrig':'nameOrg'}, inplace=True)"
   ]
  },
  {
   "cell_type": "markdown",
   "id": "4fa30fbe",
   "metadata": {},
   "source": [
    "# EDA"
   ]
  },
  {
   "cell_type": "code",
   "execution_count": 25,
   "id": "8c271406",
   "metadata": {},
   "outputs": [
    {
     "data": {
      "text/plain": [
       "(6362620, 11)"
      ]
     },
     "execution_count": 25,
     "metadata": {},
     "output_type": "execute_result"
    }
   ],
   "source": [
    "df.shape"
   ]
  },
  {
   "cell_type": "code",
   "execution_count": 26,
   "id": "c7f4c16a",
   "metadata": {},
   "outputs": [
    {
     "name": "stdout",
     "output_type": "stream",
     "text": [
      "<class 'pandas.core.frame.DataFrame'>\n",
      "RangeIndex: 6362620 entries, 0 to 6362619\n",
      "Data columns (total 11 columns):\n",
      " #   Column          Dtype  \n",
      "---  ------          -----  \n",
      " 0   step            int64  \n",
      " 1   type            object \n",
      " 2   amount          float64\n",
      " 3   nameOrg         object \n",
      " 4   oldbalanceOrg   float64\n",
      " 5   newbalanceOrg   float64\n",
      " 6   nameDest        object \n",
      " 7   oldbalanceDest  float64\n",
      " 8   newbalanceDest  float64\n",
      " 9   isFraud         int64  \n",
      " 10  isFlaggedFraud  int64  \n",
      "dtypes: float64(5), int64(3), object(3)\n",
      "memory usage: 534.0+ MB\n"
     ]
    }
   ],
   "source": [
    "df.info()"
   ]
  },
  {
   "cell_type": "code",
   "execution_count": 27,
   "id": "6705ba4e",
   "metadata": {},
   "outputs": [
    {
     "data": {
      "text/plain": [
       "step              0\n",
       "type              0\n",
       "amount            0\n",
       "nameOrg           0\n",
       "oldbalanceOrg     0\n",
       "newbalanceOrg     0\n",
       "nameDest          0\n",
       "oldbalanceDest    0\n",
       "newbalanceDest    0\n",
       "isFraud           0\n",
       "isFlaggedFraud    0\n",
       "dtype: int64"
      ]
     },
     "execution_count": 27,
     "metadata": {},
     "output_type": "execute_result"
    }
   ],
   "source": [
    "df.isna().sum()"
   ]
  },
  {
   "cell_type": "code",
   "execution_count": 28,
   "id": "67ac6b34",
   "metadata": {},
   "outputs": [
    {
     "data": {
      "text/html": [
       "<div>\n",
       "<style scoped>\n",
       "    .dataframe tbody tr th:only-of-type {\n",
       "        vertical-align: middle;\n",
       "    }\n",
       "\n",
       "    .dataframe tbody tr th {\n",
       "        vertical-align: top;\n",
       "    }\n",
       "\n",
       "    .dataframe thead th {\n",
       "        text-align: right;\n",
       "    }\n",
       "</style>\n",
       "<table border=\"1\" class=\"dataframe\">\n",
       "  <thead>\n",
       "    <tr style=\"text-align: right;\">\n",
       "      <th></th>\n",
       "      <th>step</th>\n",
       "      <th>amount</th>\n",
       "      <th>oldbalanceOrg</th>\n",
       "      <th>newbalanceOrg</th>\n",
       "      <th>oldbalanceDest</th>\n",
       "      <th>newbalanceDest</th>\n",
       "      <th>isFraud</th>\n",
       "      <th>isFlaggedFraud</th>\n",
       "    </tr>\n",
       "  </thead>\n",
       "  <tbody>\n",
       "    <tr>\n",
       "      <th>count</th>\n",
       "      <td>6.362620e+06</td>\n",
       "      <td>6.362620e+06</td>\n",
       "      <td>6.362620e+06</td>\n",
       "      <td>6.362620e+06</td>\n",
       "      <td>6.362620e+06</td>\n",
       "      <td>6.362620e+06</td>\n",
       "      <td>6.362620e+06</td>\n",
       "      <td>6.362620e+06</td>\n",
       "    </tr>\n",
       "    <tr>\n",
       "      <th>mean</th>\n",
       "      <td>2.433972e+02</td>\n",
       "      <td>1.798619e+05</td>\n",
       "      <td>8.338831e+05</td>\n",
       "      <td>8.551137e+05</td>\n",
       "      <td>1.100702e+06</td>\n",
       "      <td>1.224996e+06</td>\n",
       "      <td>1.290820e-03</td>\n",
       "      <td>2.514687e-06</td>\n",
       "    </tr>\n",
       "    <tr>\n",
       "      <th>std</th>\n",
       "      <td>1.423320e+02</td>\n",
       "      <td>6.038582e+05</td>\n",
       "      <td>2.888243e+06</td>\n",
       "      <td>2.924049e+06</td>\n",
       "      <td>3.399180e+06</td>\n",
       "      <td>3.674129e+06</td>\n",
       "      <td>3.590480e-02</td>\n",
       "      <td>1.585775e-03</td>\n",
       "    </tr>\n",
       "    <tr>\n",
       "      <th>min</th>\n",
       "      <td>1.000000e+00</td>\n",
       "      <td>0.000000e+00</td>\n",
       "      <td>0.000000e+00</td>\n",
       "      <td>0.000000e+00</td>\n",
       "      <td>0.000000e+00</td>\n",
       "      <td>0.000000e+00</td>\n",
       "      <td>0.000000e+00</td>\n",
       "      <td>0.000000e+00</td>\n",
       "    </tr>\n",
       "    <tr>\n",
       "      <th>25%</th>\n",
       "      <td>1.560000e+02</td>\n",
       "      <td>1.338957e+04</td>\n",
       "      <td>0.000000e+00</td>\n",
       "      <td>0.000000e+00</td>\n",
       "      <td>0.000000e+00</td>\n",
       "      <td>0.000000e+00</td>\n",
       "      <td>0.000000e+00</td>\n",
       "      <td>0.000000e+00</td>\n",
       "    </tr>\n",
       "    <tr>\n",
       "      <th>50%</th>\n",
       "      <td>2.390000e+02</td>\n",
       "      <td>7.487194e+04</td>\n",
       "      <td>1.420800e+04</td>\n",
       "      <td>0.000000e+00</td>\n",
       "      <td>1.327057e+05</td>\n",
       "      <td>2.146614e+05</td>\n",
       "      <td>0.000000e+00</td>\n",
       "      <td>0.000000e+00</td>\n",
       "    </tr>\n",
       "    <tr>\n",
       "      <th>75%</th>\n",
       "      <td>3.350000e+02</td>\n",
       "      <td>2.087215e+05</td>\n",
       "      <td>1.073152e+05</td>\n",
       "      <td>1.442584e+05</td>\n",
       "      <td>9.430367e+05</td>\n",
       "      <td>1.111909e+06</td>\n",
       "      <td>0.000000e+00</td>\n",
       "      <td>0.000000e+00</td>\n",
       "    </tr>\n",
       "    <tr>\n",
       "      <th>max</th>\n",
       "      <td>7.430000e+02</td>\n",
       "      <td>9.244552e+07</td>\n",
       "      <td>5.958504e+07</td>\n",
       "      <td>4.958504e+07</td>\n",
       "      <td>3.560159e+08</td>\n",
       "      <td>3.561793e+08</td>\n",
       "      <td>1.000000e+00</td>\n",
       "      <td>1.000000e+00</td>\n",
       "    </tr>\n",
       "  </tbody>\n",
       "</table>\n",
       "</div>"
      ],
      "text/plain": [
       "               step        amount  oldbalanceOrg  newbalanceOrg  \\\n",
       "count  6.362620e+06  6.362620e+06   6.362620e+06   6.362620e+06   \n",
       "mean   2.433972e+02  1.798619e+05   8.338831e+05   8.551137e+05   \n",
       "std    1.423320e+02  6.038582e+05   2.888243e+06   2.924049e+06   \n",
       "min    1.000000e+00  0.000000e+00   0.000000e+00   0.000000e+00   \n",
       "25%    1.560000e+02  1.338957e+04   0.000000e+00   0.000000e+00   \n",
       "50%    2.390000e+02  7.487194e+04   1.420800e+04   0.000000e+00   \n",
       "75%    3.350000e+02  2.087215e+05   1.073152e+05   1.442584e+05   \n",
       "max    7.430000e+02  9.244552e+07   5.958504e+07   4.958504e+07   \n",
       "\n",
       "       oldbalanceDest  newbalanceDest       isFraud  isFlaggedFraud  \n",
       "count    6.362620e+06    6.362620e+06  6.362620e+06    6.362620e+06  \n",
       "mean     1.100702e+06    1.224996e+06  1.290820e-03    2.514687e-06  \n",
       "std      3.399180e+06    3.674129e+06  3.590480e-02    1.585775e-03  \n",
       "min      0.000000e+00    0.000000e+00  0.000000e+00    0.000000e+00  \n",
       "25%      0.000000e+00    0.000000e+00  0.000000e+00    0.000000e+00  \n",
       "50%      1.327057e+05    2.146614e+05  0.000000e+00    0.000000e+00  \n",
       "75%      9.430367e+05    1.111909e+06  0.000000e+00    0.000000e+00  \n",
       "max      3.560159e+08    3.561793e+08  1.000000e+00    1.000000e+00  "
      ]
     },
     "execution_count": 28,
     "metadata": {},
     "output_type": "execute_result"
    }
   ],
   "source": [
    "df.describe()"
   ]
  },
  {
   "cell_type": "code",
   "execution_count": 29,
   "id": "97cdfbda",
   "metadata": {},
   "outputs": [
    {
     "data": {
      "text/html": [
       "<div>\n",
       "<style scoped>\n",
       "    .dataframe tbody tr th:only-of-type {\n",
       "        vertical-align: middle;\n",
       "    }\n",
       "\n",
       "    .dataframe tbody tr th {\n",
       "        vertical-align: top;\n",
       "    }\n",
       "\n",
       "    .dataframe thead th {\n",
       "        text-align: right;\n",
       "    }\n",
       "</style>\n",
       "<table border=\"1\" class=\"dataframe\">\n",
       "  <thead>\n",
       "    <tr style=\"text-align: right;\">\n",
       "      <th></th>\n",
       "      <th>type</th>\n",
       "      <th>nameOrg</th>\n",
       "      <th>nameDest</th>\n",
       "    </tr>\n",
       "  </thead>\n",
       "  <tbody>\n",
       "    <tr>\n",
       "      <th>count</th>\n",
       "      <td>6362620</td>\n",
       "      <td>6362620</td>\n",
       "      <td>6362620</td>\n",
       "    </tr>\n",
       "    <tr>\n",
       "      <th>unique</th>\n",
       "      <td>5</td>\n",
       "      <td>6353307</td>\n",
       "      <td>2722362</td>\n",
       "    </tr>\n",
       "    <tr>\n",
       "      <th>top</th>\n",
       "      <td>CASH_OUT</td>\n",
       "      <td>C1677795071</td>\n",
       "      <td>C1286084959</td>\n",
       "    </tr>\n",
       "    <tr>\n",
       "      <th>freq</th>\n",
       "      <td>2237500</td>\n",
       "      <td>3</td>\n",
       "      <td>113</td>\n",
       "    </tr>\n",
       "  </tbody>\n",
       "</table>\n",
       "</div>"
      ],
      "text/plain": [
       "            type      nameOrg     nameDest\n",
       "count    6362620      6362620      6362620\n",
       "unique         5      6353307      2722362\n",
       "top     CASH_OUT  C1677795071  C1286084959\n",
       "freq     2237500            3          113"
      ]
     },
     "execution_count": 29,
     "metadata": {},
     "output_type": "execute_result"
    }
   ],
   "source": [
    "df.describe(include='O')"
   ]
  },
  {
   "cell_type": "code",
   "execution_count": 30,
   "id": "c8f3edfd",
   "metadata": {},
   "outputs": [],
   "source": [
    "# plt.figure(figsize=(14,8))\n",
    "# sns.boxplot(data=df)\n",
    "# plt.tight_layout()\n",
    "# plt.show()\n"
   ]
  },
  {
   "cell_type": "markdown",
   "id": "e1d02bda",
   "metadata": {},
   "source": [
    "There is too much outliers in the Data but I will keep them"
   ]
  },
  {
   "cell_type": "code",
   "execution_count": 31,
   "id": "5f504e6b",
   "metadata": {},
   "outputs": [
    {
     "data": {
      "image/png": "[encoded data removed]",
      "text/plain": [
       "<Figure size 640x480 with 2 Axes>"
      ]
     },
     "metadata": {},
     "output_type": "display_data"
    }
   ],
   "source": [
    "corr = df.select_dtypes(include=[np.number]).corr()\n",
    "sns.heatmap(corr, annot=True, fmt='.2f')\n",
    "plt.show()"
   ]
  },
  {
   "cell_type": "markdown",
   "id": "bf0469f4",
   "metadata": {},
   "source": [
    "* There are multiple cols that is high correleated, I will combine them together"
   ]
  },
  {
   "cell_type": "code",
   "execution_count": 32,
   "id": "17c3cc0a",
   "metadata": {},
   "outputs": [],
   "source": [
    "df['dest_delta_balance'] = df.newbalanceDest - df.oldbalanceDest"
   ]
  },
  {
   "cell_type": "markdown",
   "id": "ce9356df",
   "metadata": {},
   "source": [
    "* oldbalanceOrg - amount = newbalanceOrg"
   ]
  },
  {
   "cell_type": "code",
   "execution_count": 33,
   "id": "52bb6d06",
   "metadata": {},
   "outputs": [
    {
     "data": {
      "text/html": [
       "<div>\n",
       "<style scoped>\n",
       "    .dataframe tbody tr th:only-of-type {\n",
       "        vertical-align: middle;\n",
       "    }\n",
       "\n",
       "    .dataframe tbody tr th {\n",
       "        vertical-align: top;\n",
       "    }\n",
       "\n",
       "    .dataframe thead th {\n",
       "        text-align: right;\n",
       "    }\n",
       "</style>\n",
       "<table border=\"1\" class=\"dataframe\">\n",
       "  <thead>\n",
       "    <tr style=\"text-align: right;\">\n",
       "      <th></th>\n",
       "      <th>step</th>\n",
       "      <th>type</th>\n",
       "      <th>amount</th>\n",
       "      <th>nameOrg</th>\n",
       "      <th>oldbalanceOrg</th>\n",
       "      <th>nameDest</th>\n",
       "      <th>isFraud</th>\n",
       "      <th>dest_delta_balance</th>\n",
       "    </tr>\n",
       "  </thead>\n",
       "  <tbody>\n",
       "    <tr>\n",
       "      <th>0</th>\n",
       "      <td>1</td>\n",
       "      <td>PAYMENT</td>\n",
       "      <td>9839.64</td>\n",
       "      <td>C1231006815</td>\n",
       "      <td>170136.0</td>\n",
       "      <td>M1979787155</td>\n",
       "      <td>0</td>\n",
       "      <td>0.0</td>\n",
       "    </tr>\n",
       "    <tr>\n",
       "      <th>1</th>\n",
       "      <td>1</td>\n",
       "      <td>PAYMENT</td>\n",
       "      <td>1864.28</td>\n",
       "      <td>C1666544295</td>\n",
       "      <td>21249.0</td>\n",
       "      <td>M2044282225</td>\n",
       "      <td>0</td>\n",
       "      <td>0.0</td>\n",
       "    </tr>\n",
       "    <tr>\n",
       "      <th>2</th>\n",
       "      <td>1</td>\n",
       "      <td>TRANSFER</td>\n",
       "      <td>181.00</td>\n",
       "      <td>C1305486145</td>\n",
       "      <td>181.0</td>\n",
       "      <td>C553264065</td>\n",
       "      <td>1</td>\n",
       "      <td>0.0</td>\n",
       "    </tr>\n",
       "    <tr>\n",
       "      <th>3</th>\n",
       "      <td>1</td>\n",
       "      <td>CASH_OUT</td>\n",
       "      <td>181.00</td>\n",
       "      <td>C840083671</td>\n",
       "      <td>181.0</td>\n",
       "      <td>C38997010</td>\n",
       "      <td>1</td>\n",
       "      <td>-21182.0</td>\n",
       "    </tr>\n",
       "    <tr>\n",
       "      <th>4</th>\n",
       "      <td>1</td>\n",
       "      <td>PAYMENT</td>\n",
       "      <td>11668.14</td>\n",
       "      <td>C2048537720</td>\n",
       "      <td>41554.0</td>\n",
       "      <td>M1230701703</td>\n",
       "      <td>0</td>\n",
       "      <td>0.0</td>\n",
       "    </tr>\n",
       "  </tbody>\n",
       "</table>\n",
       "</div>"
      ],
      "text/plain": [
       "   step      type    amount      nameOrg  oldbalanceOrg     nameDest  isFraud  \\\n",
       "0     1   PAYMENT   9839.64  C1231006815       170136.0  M1979787155        0   \n",
       "1     1   PAYMENT   1864.28  C1666544295        21249.0  M2044282225        0   \n",
       "2     1  TRANSFER    181.00  C1305486145          181.0   C553264065        1   \n",
       "3     1  CASH_OUT    181.00   C840083671          181.0    C38997010        1   \n",
       "4     1   PAYMENT  11668.14  C2048537720        41554.0  M1230701703        0   \n",
       "\n",
       "   dest_delta_balance  \n",
       "0                 0.0  \n",
       "1                 0.0  \n",
       "2                 0.0  \n",
       "3            -21182.0  \n",
       "4                 0.0  "
      ]
     },
     "execution_count": 33,
     "metadata": {},
     "output_type": "execute_result"
    }
   ],
   "source": [
    "df2 = df.drop(['isFlaggedFraud', 'newbalanceDest', 'oldbalanceDest', 'newbalanceOrg'], axis=1)\n",
    "df2.head()"
   ]
  },
  {
   "cell_type": "markdown",
   "id": "91a3b304",
   "metadata": {},
   "source": [
    "## Handling Categorical Data"
   ]
  },
  {
   "cell_type": "code",
   "execution_count": 34,
   "id": "263f6a62",
   "metadata": {},
   "outputs": [
    {
     "name": "stdout",
     "output_type": "stream",
     "text": [
      "rows: 6362620 unique org: 6353307 unique dest: 2722362\n",
      "frac unique org: 0.9985362947967975 frac unique dest: 0.4278680795018404\n",
      "same in-row name fraction: 0.0\n"
     ]
    }
   ],
   "source": [
    "n_rows = len(df2)\n",
    "n_org = df2['nameOrg'].nunique()\n",
    "n_dest = df2['nameDest'].nunique()\n",
    "print(\"rows:\", n_rows, \"unique org:\", n_org, \"unique dest:\", n_dest)\n",
    "print(\"frac unique org:\", n_org/n_rows, \"frac unique dest:\", n_dest/n_rows)\n",
    "\n",
    "same_name_frac = (df2['nameOrg'] == df2['nameDest']).mean()\n",
    "print(\"same in-row name fraction:\", same_name_frac)\n"
   ]
  },
  {
   "cell_type": "code",
   "execution_count": 35,
   "id": "38e0b91c",
   "metadata": {},
   "outputs": [
    {
     "data": {
      "text/plain": [
       "5"
      ]
     },
     "execution_count": 35,
     "metadata": {},
     "output_type": "execute_result"
    }
   ],
   "source": [
    "len(df2.type.unique())"
   ]
  },
  {
   "cell_type": "markdown",
   "id": "523f1cd1",
   "metadata": {},
   "source": [
    "* For the nameOrg, nameDest there is no relation among them so they may be an identifier. \n",
    "* For the type we can perform OHE"
   ]
  },
  {
   "cell_type": "code",
   "execution_count": 36,
   "id": "0f81a0f6",
   "metadata": {},
   "outputs": [
    {
     "data": {
      "text/html": [
       "<div>\n",
       "<style scoped>\n",
       "    .dataframe tbody tr th:only-of-type {\n",
       "        vertical-align: middle;\n",
       "    }\n",
       "\n",
       "    .dataframe tbody tr th {\n",
       "        vertical-align: top;\n",
       "    }\n",
       "\n",
       "    .dataframe thead th {\n",
       "        text-align: right;\n",
       "    }\n",
       "</style>\n",
       "<table border=\"1\" class=\"dataframe\">\n",
       "  <thead>\n",
       "    <tr style=\"text-align: right;\">\n",
       "      <th></th>\n",
       "      <th>step</th>\n",
       "      <th>type</th>\n",
       "      <th>amount</th>\n",
       "      <th>oldbalanceOrg</th>\n",
       "      <th>isFraud</th>\n",
       "      <th>dest_delta_balance</th>\n",
       "    </tr>\n",
       "  </thead>\n",
       "  <tbody>\n",
       "    <tr>\n",
       "      <th>0</th>\n",
       "      <td>1</td>\n",
       "      <td>PAYMENT</td>\n",
       "      <td>9839.64</td>\n",
       "      <td>170136.0</td>\n",
       "      <td>0</td>\n",
       "      <td>0.0</td>\n",
       "    </tr>\n",
       "    <tr>\n",
       "      <th>1</th>\n",
       "      <td>1</td>\n",
       "      <td>PAYMENT</td>\n",
       "      <td>1864.28</td>\n",
       "      <td>21249.0</td>\n",
       "      <td>0</td>\n",
       "      <td>0.0</td>\n",
       "    </tr>\n",
       "    <tr>\n",
       "      <th>2</th>\n",
       "      <td>1</td>\n",
       "      <td>TRANSFER</td>\n",
       "      <td>181.00</td>\n",
       "      <td>181.0</td>\n",
       "      <td>1</td>\n",
       "      <td>0.0</td>\n",
       "    </tr>\n",
       "    <tr>\n",
       "      <th>3</th>\n",
       "      <td>1</td>\n",
       "      <td>CASH_OUT</td>\n",
       "      <td>181.00</td>\n",
       "      <td>181.0</td>\n",
       "      <td>1</td>\n",
       "      <td>-21182.0</td>\n",
       "    </tr>\n",
       "    <tr>\n",
       "      <th>4</th>\n",
       "      <td>1</td>\n",
       "      <td>PAYMENT</td>\n",
       "      <td>11668.14</td>\n",
       "      <td>41554.0</td>\n",
       "      <td>0</td>\n",
       "      <td>0.0</td>\n",
       "    </tr>\n",
       "  </tbody>\n",
       "</table>\n",
       "</div>"
      ],
      "text/plain": [
       "   step      type    amount  oldbalanceOrg  isFraud  dest_delta_balance\n",
       "0     1   PAYMENT   9839.64       170136.0        0                 0.0\n",
       "1     1   PAYMENT   1864.28        21249.0        0                 0.0\n",
       "2     1  TRANSFER    181.00          181.0        1                 0.0\n",
       "3     1  CASH_OUT    181.00          181.0        1            -21182.0\n",
       "4     1   PAYMENT  11668.14        41554.0        0                 0.0"
      ]
     },
     "execution_count": 36,
     "metadata": {},
     "output_type": "execute_result"
    }
   ],
   "source": [
    "df3 = df2.drop(['nameOrg', 'nameDest'], axis=1)\n",
    "df3.head()"
   ]
  },
  {
   "cell_type": "markdown",
   "id": "b6824e24",
   "metadata": {},
   "source": [
    "# Data splitting"
   ]
  },
  {
   "cell_type": "code",
   "execution_count": 49,
   "id": "5a0a438a",
   "metadata": {},
   "outputs": [],
   "source": [
    "from sklearn.model_selection import train_test_split\n",
    "\n",
    "x = df3.drop(columns='isFraud')\n",
    "y = df3['isFraud']\n",
    "\n",
    "X_train, X_test, y_train, y_test = train_test_split(x, y, test_size=0.4, random_state=42, stratify=y)"
   ]
  },
  {
   "cell_type": "markdown",
   "id": "a2bb288b",
   "metadata": {},
   "source": [
    "* Applying OHE and Normalize the data"
   ]
  },
  {
   "cell_type": "code",
   "execution_count": 50,
   "id": "8ea23f98",
   "metadata": {},
   "outputs": [],
   "source": [
    "from sklearn.preprocessing import OneHotEncoder, StandardScaler\n",
    "from sklearn.compose import ColumnTransformer\n",
    "\n",
    "num_cols = list(X_train.select_dtypes(include=[np.number]).columns)\n",
    "cat_cols = ['type']\n",
    "\n",
    "ct = ColumnTransformer(\n",
    "    transformers=[\n",
    "        ('scaler', StandardScaler(), num_cols),\n",
    "        ('ohe', OneHotEncoder(sparse_output=False, handle_unknown='ignore'), cat_cols)\n",
    "    ],\n",
    ")\n",
    "\n",
    "X_train_enc = ct.fit_transform(X_train)\n",
    "X_test_enc  = ct.transform(X_test)\n",
    "\n",
    "ohe = ct.named_transformers_['ohe']\n",
    "ohe_feature_names = list(ohe.get_feature_names_out(cat_cols))\n",
    "\n",
    "remainder_cols = [c for c in X_train.columns if c not in (num_cols + cat_cols)]\n",
    "\n",
    "all_feature_names = list(num_cols) + ohe_feature_names + remainder_cols\n",
    "\n",
    "X_train_pre = pd.DataFrame(X_train_enc, columns=all_feature_names, index=X_train.index)\n",
    "X_test_pre  = pd.DataFrame(X_test_enc,  columns=all_feature_names, index=X_test.index)\n"
   ]
  },
  {
   "cell_type": "markdown",
   "id": "b50aec64",
   "metadata": {},
   "source": [
    "# Imbalance handling"
   ]
  },
  {
   "cell_type": "code",
   "execution_count": 39,
   "id": "4a9817ba",
   "metadata": {},
   "outputs": [
    {
     "name": "stdout",
     "output_type": "stream",
     "text": [
      "8213\n",
      "6354407\n"
     ]
    }
   ],
   "source": [
    "df_cls1 = y[y == 1]\n",
    "df_cls0 = y[y == 0]\n",
    "\n",
    "print(len(df_cls1))\n",
    "print(len(df_cls0))"
   ]
  },
  {
   "cell_type": "markdown",
   "id": "bbb4f0f2",
   "metadata": {},
   "source": [
    "* Undersampling"
   ]
  },
  {
   "cell_type": "code",
   "execution_count": 51,
   "id": "c6c3fdaf",
   "metadata": {},
   "outputs": [],
   "source": [
    "train_df = pd.concat([X_train_pre, y_train], axis=1)\n",
    "\n",
    "\n",
    "cls1 = train_df[train_df['isFraud'] == 1]\n",
    "cls0 = train_df[train_df['isFraud'] == 0]\n",
    "\n",
    "cls0_under = cls0.sample(len(cls1), random_state=42)\n",
    "train_under = pd.concat([cls0_under, cls1])\n",
    "\n",
    "\n",
    "X_train_under = train_under.drop(columns='isFraud')\n",
    "y_train_under = train_under['isFraud']"
   ]
  },
  {
   "cell_type": "code",
   "execution_count": 52,
   "id": "25cb9b14",
   "metadata": {},
   "outputs": [
    {
     "data": {
      "text/plain": [
       "isFraud\n",
       "0    4928\n",
       "1    4928\n",
       "Name: count, dtype: int64"
      ]
     },
     "execution_count": 52,
     "metadata": {},
     "output_type": "execute_result"
    }
   ],
   "source": [
    "y_train_under.value_counts()"
   ]
  },
  {
   "cell_type": "markdown",
   "id": "737c48fc",
   "metadata": {},
   "source": [
    "* Oversampling with SMOTE"
   ]
  },
  {
   "cell_type": "code",
   "execution_count": 53,
   "id": "01eeeedb",
   "metadata": {},
   "outputs": [],
   "source": [
    "from imblearn.over_sampling import ADASYN\n",
    "adasyn = ADASYN(random_state=42)\n",
    "X_res_np, y_res_np = adasyn.fit_resample(X_train_pre, y_train)\n",
    "\n",
    "X_res = pd.DataFrame(X_res_np, columns=X_train_pre.columns)\n",
    "y_res = pd.Series(y_res_np, name=y_train.name)"
   ]
  },
  {
   "cell_type": "code",
   "execution_count": 21,
   "id": "792917f8",
   "metadata": {},
   "outputs": [
    {
     "data": {
      "text/plain": [
       "isFraud\n",
       "1    5083812\n",
       "0    5083526\n",
       "Name: count, dtype: int64"
      ]
     },
     "execution_count": 21,
     "metadata": {},
     "output_type": "execute_result"
    }
   ],
   "source": [
    "y_res.value_counts()"
   ]
  },
  {
   "cell_type": "markdown",
   "id": "eab6d57a",
   "metadata": {},
   "source": [
    "# Modelling"
   ]
  },
  {
   "cell_type": "markdown",
   "id": "7554e8ff",
   "metadata": {},
   "source": [
    "* LogisticRegression"
   ]
  },
  {
   "cell_type": "code",
   "execution_count": 47,
   "id": "89840899",
   "metadata": {},
   "outputs": [
    {
     "name": "stdout",
     "output_type": "stream",
     "text": [
      "              precision    recall  f1-score   support\n",
      "\n",
      "           0       1.00      0.86      0.92   1270881\n",
      "           1       0.01      1.00      0.02      1643\n",
      "\n",
      "    accuracy                           0.86   1272524\n",
      "   macro avg       0.50      0.93      0.47   1272524\n",
      "weighted avg       1.00      0.86      0.92   1272524\n",
      "\n"
     ]
    }
   ],
   "source": [
    "from sklearn.linear_model import LogisticRegression\n",
    "from sklearn.model_selection import GridSearchCV\n",
    "from sklearn.metrics import classification_report, confusion_matrix, roc_auc_score\n",
    "\n",
    "\n",
    "\n",
    "# grid = GridSearchCV(LogisticRegression(penalty='l2',max_iter=5000, random_state=42),param_grid={'C' : [1,0.1, 0.001, 0.0001]},cv=3,scoring='roc_auc',n_jobs=-1)\n",
    "# grid.fit(X_train_under,y_train_under)\n",
    "\n",
    "clf_log = LogisticRegression(C=1, max_iter=5000, random_state=42)\n",
    "clf_log.fit(X_res, y_res)\n",
    "\n",
    "\n",
    "#y_pred = grid.best_estimator_.predict(X_test_pre)\n",
    "\n",
    "y_pred = clf_log.predict(X_test_pre)\n",
    "\n",
    "\n",
    "print(classification_report(y_test, y_pred))"
   ]
  },
  {
   "cell_type": "code",
   "execution_count": 23,
   "id": "5dc9bfa7",
   "metadata": {},
   "outputs": [],
   "source": [
    "from sklearn.ensemble import RandomForestClassifier\n",
    "\n",
    "\n",
    "params = {\n",
    "     'n_estimators': [200, 500],\n",
    "     'max_depth': [None, 10, 20],\n",
    "     'min_samples_split': [3, 5],\n",
    "     'min_samples_leaf': [1, 2],\n",
    "}\n",
    "\n",
    "grid = GridSearchCV(RandomForestClassifier(n_jobs=-1,oob_score=True,random_state=42),param_grid= params,cv=3,scoring='roc_auc')\n",
    "#grid.fit(X_train_under,y_train_under)\n",
    "\n",
    "#print(grid.best_estimator_)\n",
    "#print(grid.best_score_)\n",
    "\n",
    "# clf_rf = RandomForestClassifier(min_samples_leaf=2, min_samples_split=5,\n",
    "#                         n_estimators=500, n_jobs=1, oob_score=True,\n",
    "#                         random_state=42,verbose=2)\n",
    "\n",
    "# clf_rf.fit(X_res,y_res)\n",
    "\n",
    "# y_prob = clf_rf.predict_proba(X_test_pre)[:, 1]\n",
    "# print(\"ROC AUC:\", roc_auc_score(y_test, y_prob))\n",
    "\n",
    "# print(clf_rf.score)"
   ]
  },
  {
   "cell_type": "code",
   "execution_count": 24,
   "id": "73ac8bd4",
   "metadata": {},
   "outputs": [
    {
     "name": "stdout",
     "output_type": "stream",
     "text": [
      "Fitting 3 folds for each of 57 candidates, totalling 171 fits\n"
     ]
    },
    {
     "name": "stderr",
     "output_type": "stream",
     "text": [
      "C:\\Users\\ahmed\\AppData\\Local\\Packages\\PythonSoftwareFoundation.Python.3.12_qbz5n2kfra8p0\\LocalCache\\local-packages\\Python312\\site-packages\\sklearn\\model_selection\\_validation.py:516: FitFailedWarning: \n",
      "9 fits failed out of a total of 171.\n",
      "The score on these train-test partitions for these parameters will be set to nan.\n",
      "If these failures are not expected, you can try to debug them by setting error_score='raise'.\n",
      "\n",
      "Below are more details about the failures:\n",
      "--------------------------------------------------------------------------------\n",
      "1 fits failed with the following error:\n",
      "Traceback (most recent call last):\n",
      "  File \"C:\\Users\\ahmed\\AppData\\Local\\Packages\\PythonSoftwareFoundation.Python.3.12_qbz5n2kfra8p0\\LocalCache\\local-packages\\Python312\\site-packages\\sklearn\\model_selection\\_validation.py\", line 859, in _fit_and_score\n",
      "    estimator.fit(X_train, y_train, **fit_params)\n",
      "  File \"C:\\Users\\ahmed\\AppData\\Local\\Packages\\PythonSoftwareFoundation.Python.3.12_qbz5n2kfra8p0\\LocalCache\\local-packages\\Python312\\site-packages\\sklearn\\base.py\", line 1358, in wrapper\n",
      "    estimator._validate_params()\n",
      "  File \"C:\\Users\\ahmed\\AppData\\Local\\Packages\\PythonSoftwareFoundation.Python.3.12_qbz5n2kfra8p0\\LocalCache\\local-packages\\Python312\\site-packages\\sklearn\\base.py\", line 471, in _validate_params\n",
      "    validate_parameter_constraints(\n",
      "  File \"C:\\Users\\ahmed\\AppData\\Local\\Packages\\PythonSoftwareFoundation.Python.3.12_qbz5n2kfra8p0\\LocalCache\\local-packages\\Python312\\site-packages\\sklearn\\utils\\_param_validation.py\", line 98, in validate_parameter_constraints\n",
      "    raise InvalidParameterError(\n",
      "sklearn.utils._param_validation.InvalidParameterError: The 'kernel' parameter of SVC must be a str among {'linear', 'precomputed', 'poly', 'rbf', 'sigmoid'} or a callable. Got 'Linear' instead.\n",
      "\n",
      "--------------------------------------------------------------------------------\n",
      "1 fits failed with the following error:\n",
      "Traceback (most recent call last):\n",
      "  File \"C:\\Users\\ahmed\\AppData\\Local\\Packages\\PythonSoftwareFoundation.Python.3.12_qbz5n2kfra8p0\\LocalCache\\local-packages\\Python312\\site-packages\\sklearn\\model_selection\\_validation.py\", line 859, in _fit_and_score\n",
      "    estimator.fit(X_train, y_train, **fit_params)\n",
      "  File \"C:\\Users\\ahmed\\AppData\\Local\\Packages\\PythonSoftwareFoundation.Python.3.12_qbz5n2kfra8p0\\LocalCache\\local-packages\\Python312\\site-packages\\sklearn\\base.py\", line 1358, in wrapper\n",
      "    estimator._validate_params()\n",
      "  File \"C:\\Users\\ahmed\\AppData\\Local\\Packages\\PythonSoftwareFoundation.Python.3.12_qbz5n2kfra8p0\\LocalCache\\local-packages\\Python312\\site-packages\\sklearn\\base.py\", line 471, in _validate_params\n",
      "    validate_parameter_constraints(\n",
      "  File \"C:\\Users\\ahmed\\AppData\\Local\\Packages\\PythonSoftwareFoundation.Python.3.12_qbz5n2kfra8p0\\LocalCache\\local-packages\\Python312\\site-packages\\sklearn\\utils\\_param_validation.py\", line 98, in validate_parameter_constraints\n",
      "    raise InvalidParameterError(\n",
      "sklearn.utils._param_validation.InvalidParameterError: The 'kernel' parameter of SVC must be a str among {'precomputed', 'poly', 'linear', 'rbf', 'sigmoid'} or a callable. Got 'Linear' instead.\n",
      "\n",
      "--------------------------------------------------------------------------------\n",
      "1 fits failed with the following error:\n",
      "Traceback (most recent call last):\n",
      "  File \"C:\\Users\\ahmed\\AppData\\Local\\Packages\\PythonSoftwareFoundation.Python.3.12_qbz5n2kfra8p0\\LocalCache\\local-packages\\Python312\\site-packages\\sklearn\\model_selection\\_validation.py\", line 859, in _fit_and_score\n",
      "    estimator.fit(X_train, y_train, **fit_params)\n",
      "  File \"C:\\Users\\ahmed\\AppData\\Local\\Packages\\PythonSoftwareFoundation.Python.3.12_qbz5n2kfra8p0\\LocalCache\\local-packages\\Python312\\site-packages\\sklearn\\base.py\", line 1358, in wrapper\n",
      "    estimator._validate_params()\n",
      "  File \"C:\\Users\\ahmed\\AppData\\Local\\Packages\\PythonSoftwareFoundation.Python.3.12_qbz5n2kfra8p0\\LocalCache\\local-packages\\Python312\\site-packages\\sklearn\\base.py\", line 471, in _validate_params\n",
      "    validate_parameter_constraints(\n",
      "  File \"C:\\Users\\ahmed\\AppData\\Local\\Packages\\PythonSoftwareFoundation.Python.3.12_qbz5n2kfra8p0\\LocalCache\\local-packages\\Python312\\site-packages\\sklearn\\utils\\_param_validation.py\", line 98, in validate_parameter_constraints\n",
      "    raise InvalidParameterError(\n",
      "sklearn.utils._param_validation.InvalidParameterError: The 'kernel' parameter of SVC must be a str among {'sigmoid', 'poly', 'precomputed', 'rbf', 'linear'} or a callable. Got 'Linear' instead.\n",
      "\n",
      "--------------------------------------------------------------------------------\n",
      "1 fits failed with the following error:\n",
      "Traceback (most recent call last):\n",
      "  File \"C:\\Users\\ahmed\\AppData\\Local\\Packages\\PythonSoftwareFoundation.Python.3.12_qbz5n2kfra8p0\\LocalCache\\local-packages\\Python312\\site-packages\\sklearn\\model_selection\\_validation.py\", line 859, in _fit_and_score\n",
      "    estimator.fit(X_train, y_train, **fit_params)\n",
      "  File \"C:\\Users\\ahmed\\AppData\\Local\\Packages\\PythonSoftwareFoundation.Python.3.12_qbz5n2kfra8p0\\LocalCache\\local-packages\\Python312\\site-packages\\sklearn\\base.py\", line 1358, in wrapper\n",
      "    estimator._validate_params()\n",
      "  File \"C:\\Users\\ahmed\\AppData\\Local\\Packages\\PythonSoftwareFoundation.Python.3.12_qbz5n2kfra8p0\\LocalCache\\local-packages\\Python312\\site-packages\\sklearn\\base.py\", line 471, in _validate_params\n",
      "    validate_parameter_constraints(\n",
      "  File \"C:\\Users\\ahmed\\AppData\\Local\\Packages\\PythonSoftwareFoundation.Python.3.12_qbz5n2kfra8p0\\LocalCache\\local-packages\\Python312\\site-packages\\sklearn\\utils\\_param_validation.py\", line 98, in validate_parameter_constraints\n",
      "    raise InvalidParameterError(\n",
      "sklearn.utils._param_validation.InvalidParameterError: The 'kernel' parameter of SVC must be a str among {'rbf', 'linear', 'precomputed', 'sigmoid', 'poly'} or a callable. Got 'Linear' instead.\n",
      "\n",
      "--------------------------------------------------------------------------------\n",
      "1 fits failed with the following error:\n",
      "Traceback (most recent call last):\n",
      "  File \"C:\\Users\\ahmed\\AppData\\Local\\Packages\\PythonSoftwareFoundation.Python.3.12_qbz5n2kfra8p0\\LocalCache\\local-packages\\Python312\\site-packages\\sklearn\\model_selection\\_validation.py\", line 859, in _fit_and_score\n",
      "    estimator.fit(X_train, y_train, **fit_params)\n",
      "  File \"C:\\Users\\ahmed\\AppData\\Local\\Packages\\PythonSoftwareFoundation.Python.3.12_qbz5n2kfra8p0\\LocalCache\\local-packages\\Python312\\site-packages\\sklearn\\base.py\", line 1358, in wrapper\n",
      "    estimator._validate_params()\n",
      "  File \"C:\\Users\\ahmed\\AppData\\Local\\Packages\\PythonSoftwareFoundation.Python.3.12_qbz5n2kfra8p0\\LocalCache\\local-packages\\Python312\\site-packages\\sklearn\\base.py\", line 471, in _validate_params\n",
      "    validate_parameter_constraints(\n",
      "  File \"C:\\Users\\ahmed\\AppData\\Local\\Packages\\PythonSoftwareFoundation.Python.3.12_qbz5n2kfra8p0\\LocalCache\\local-packages\\Python312\\site-packages\\sklearn\\utils\\_param_validation.py\", line 98, in validate_parameter_constraints\n",
      "    raise InvalidParameterError(\n",
      "sklearn.utils._param_validation.InvalidParameterError: The 'kernel' parameter of SVC must be a str among {'linear', 'poly', 'rbf', 'sigmoid', 'precomputed'} or a callable. Got 'Linear' instead.\n",
      "\n",
      "--------------------------------------------------------------------------------\n",
      "1 fits failed with the following error:\n",
      "Traceback (most recent call last):\n",
      "  File \"C:\\Users\\ahmed\\AppData\\Local\\Packages\\PythonSoftwareFoundation.Python.3.12_qbz5n2kfra8p0\\LocalCache\\local-packages\\Python312\\site-packages\\sklearn\\model_selection\\_validation.py\", line 859, in _fit_and_score\n",
      "    estimator.fit(X_train, y_train, **fit_params)\n",
      "  File \"C:\\Users\\ahmed\\AppData\\Local\\Packages\\PythonSoftwareFoundation.Python.3.12_qbz5n2kfra8p0\\LocalCache\\local-packages\\Python312\\site-packages\\sklearn\\base.py\", line 1358, in wrapper\n",
      "    estimator._validate_params()\n",
      "  File \"C:\\Users\\ahmed\\AppData\\Local\\Packages\\PythonSoftwareFoundation.Python.3.12_qbz5n2kfra8p0\\LocalCache\\local-packages\\Python312\\site-packages\\sklearn\\base.py\", line 471, in _validate_params\n",
      "    validate_parameter_constraints(\n",
      "  File \"C:\\Users\\ahmed\\AppData\\Local\\Packages\\PythonSoftwareFoundation.Python.3.12_qbz5n2kfra8p0\\LocalCache\\local-packages\\Python312\\site-packages\\sklearn\\utils\\_param_validation.py\", line 98, in validate_parameter_constraints\n",
      "    raise InvalidParameterError(\n",
      "sklearn.utils._param_validation.InvalidParameterError: The 'kernel' parameter of SVC must be a str among {'linear', 'rbf', 'precomputed', 'sigmoid', 'poly'} or a callable. Got 'Linear' instead.\n",
      "\n",
      "--------------------------------------------------------------------------------\n",
      "1 fits failed with the following error:\n",
      "Traceback (most recent call last):\n",
      "  File \"C:\\Users\\ahmed\\AppData\\Local\\Packages\\PythonSoftwareFoundation.Python.3.12_qbz5n2kfra8p0\\LocalCache\\local-packages\\Python312\\site-packages\\sklearn\\model_selection\\_validation.py\", line 859, in _fit_and_score\n",
      "    estimator.fit(X_train, y_train, **fit_params)\n",
      "  File \"C:\\Users\\ahmed\\AppData\\Local\\Packages\\PythonSoftwareFoundation.Python.3.12_qbz5n2kfra8p0\\LocalCache\\local-packages\\Python312\\site-packages\\sklearn\\base.py\", line 1358, in wrapper\n",
      "    estimator._validate_params()\n",
      "  File \"C:\\Users\\ahmed\\AppData\\Local\\Packages\\PythonSoftwareFoundation.Python.3.12_qbz5n2kfra8p0\\LocalCache\\local-packages\\Python312\\site-packages\\sklearn\\base.py\", line 471, in _validate_params\n",
      "    validate_parameter_constraints(\n",
      "  File \"C:\\Users\\ahmed\\AppData\\Local\\Packages\\PythonSoftwareFoundation.Python.3.12_qbz5n2kfra8p0\\LocalCache\\local-packages\\Python312\\site-packages\\sklearn\\utils\\_param_validation.py\", line 98, in validate_parameter_constraints\n",
      "    raise InvalidParameterError(\n",
      "sklearn.utils._param_validation.InvalidParameterError: The 'kernel' parameter of SVC must be a str among {'sigmoid', 'linear', 'rbf', 'precomputed', 'poly'} or a callable. Got 'Linear' instead.\n",
      "\n",
      "--------------------------------------------------------------------------------\n",
      "1 fits failed with the following error:\n",
      "Traceback (most recent call last):\n",
      "  File \"C:\\Users\\ahmed\\AppData\\Local\\Packages\\PythonSoftwareFoundation.Python.3.12_qbz5n2kfra8p0\\LocalCache\\local-packages\\Python312\\site-packages\\sklearn\\model_selection\\_validation.py\", line 859, in _fit_and_score\n",
      "    estimator.fit(X_train, y_train, **fit_params)\n",
      "  File \"C:\\Users\\ahmed\\AppData\\Local\\Packages\\PythonSoftwareFoundation.Python.3.12_qbz5n2kfra8p0\\LocalCache\\local-packages\\Python312\\site-packages\\sklearn\\base.py\", line 1358, in wrapper\n",
      "    estimator._validate_params()\n",
      "  File \"C:\\Users\\ahmed\\AppData\\Local\\Packages\\PythonSoftwareFoundation.Python.3.12_qbz5n2kfra8p0\\LocalCache\\local-packages\\Python312\\site-packages\\sklearn\\base.py\", line 471, in _validate_params\n",
      "    validate_parameter_constraints(\n",
      "  File \"C:\\Users\\ahmed\\AppData\\Local\\Packages\\PythonSoftwareFoundation.Python.3.12_qbz5n2kfra8p0\\LocalCache\\local-packages\\Python312\\site-packages\\sklearn\\utils\\_param_validation.py\", line 98, in validate_parameter_constraints\n",
      "    raise InvalidParameterError(\n",
      "sklearn.utils._param_validation.InvalidParameterError: The 'kernel' parameter of SVC must be a str among {'rbf', 'linear', 'sigmoid', 'precomputed', 'poly'} or a callable. Got 'Linear' instead.\n",
      "\n",
      "--------------------------------------------------------------------------------\n",
      "1 fits failed with the following error:\n",
      "Traceback (most recent call last):\n",
      "  File \"C:\\Users\\ahmed\\AppData\\Local\\Packages\\PythonSoftwareFoundation.Python.3.12_qbz5n2kfra8p0\\LocalCache\\local-packages\\Python312\\site-packages\\sklearn\\model_selection\\_validation.py\", line 859, in _fit_and_score\n",
      "    estimator.fit(X_train, y_train, **fit_params)\n",
      "  File \"C:\\Users\\ahmed\\AppData\\Local\\Packages\\PythonSoftwareFoundation.Python.3.12_qbz5n2kfra8p0\\LocalCache\\local-packages\\Python312\\site-packages\\sklearn\\base.py\", line 1358, in wrapper\n",
      "    estimator._validate_params()\n",
      "  File \"C:\\Users\\ahmed\\AppData\\Local\\Packages\\PythonSoftwareFoundation.Python.3.12_qbz5n2kfra8p0\\LocalCache\\local-packages\\Python312\\site-packages\\sklearn\\base.py\", line 471, in _validate_params\n",
      "    validate_parameter_constraints(\n",
      "  File \"C:\\Users\\ahmed\\AppData\\Local\\Packages\\PythonSoftwareFoundation.Python.3.12_qbz5n2kfra8p0\\LocalCache\\local-packages\\Python312\\site-packages\\sklearn\\utils\\_param_validation.py\", line 98, in validate_parameter_constraints\n",
      "    raise InvalidParameterError(\n",
      "sklearn.utils._param_validation.InvalidParameterError: The 'kernel' parameter of SVC must be a str among {'precomputed', 'poly', 'rbf', 'linear', 'sigmoid'} or a callable. Got 'Linear' instead.\n",
      "\n",
      "  warnings.warn(some_fits_failed_message, FitFailedWarning)\n",
      "C:\\Users\\ahmed\\AppData\\Local\\Packages\\PythonSoftwareFoundation.Python.3.12_qbz5n2kfra8p0\\LocalCache\\local-packages\\Python312\\site-packages\\sklearn\\model_selection\\_search.py:1135: UserWarning: One or more of the test scores are non-finite: [       nan        nan        nan 0.90802319 0.91124844 0.85159991\n",
      " 0.86974862 0.91008889 0.91479779 0.93821543 0.94885588 0.86794152\n",
      " 0.91650973 0.94723379 0.95659063 0.96538583 0.97411035 0.9175642\n",
      " 0.93268996 0.97318502 0.97813119 0.85915167 0.8510316  0.88538653\n",
      " 0.95310412 0.84943002 0.85203318 0.89135881 0.96455391 0.85649743\n",
      " 0.84907668 0.87879298 0.97562867 0.91504403 0.84929929 0.93233391\n",
      " 0.9765278  0.90813307 0.84893045 0.93653489 0.9814329  0.87782907\n",
      " 0.8557822  0.92371927 0.98282688 0.9347221  0.88538604 0.95309821\n",
      " 0.98374207 0.94138105 0.84808052 0.94823308 0.98360341 0.92192073\n",
      " 0.85668668 0.94430836 0.98388809]\n",
      "  warnings.warn(\n"
     ]
    },
    {
     "name": "stdout",
     "output_type": "stream",
     "text": [
      "SVC(C=1, degree=4, gamma=1, kernel='poly', random_state=42)\n",
      "0.9838880896283785\n",
      "              precision    recall  f1-score   support\n",
      "\n",
      "           0       1.00      0.95      0.97   1270881\n",
      "           1       0.02      0.96      0.05      1643\n",
      "\n",
      "    accuracy                           0.95   1272524\n",
      "   macro avg       0.51      0.95      0.51   1272524\n",
      "weighted avg       1.00      0.95      0.97   1272524\n",
      "\n"
     ]
    }
   ],
   "source": [
    "from sklearn.svm import SVC\n",
    "from sklearn.linear_model import SGDClassifier\n",
    "\n",
    "params = [\n",
    "    {\n",
    "        'kernel' : ['Linear'],\n",
    "        'C' : [0.01, 0.1, 1]\n",
    "    },\n",
    "    {\n",
    "        'kernel' : ['rbf'],\n",
    "        'C' : [0.01, 0.1, 1],\n",
    "        'gamma' : [\"scale\", \"auto\", 0.001, 0.01, 0.1, 1] \n",
    "    },\n",
    "    {\n",
    "        'kernel' : ['poly'],\n",
    "        'C' : [0.01, 0.1, 1],\n",
    "        'degree' : [2,3,4],\n",
    "        'gamma' : [\"scale\", 0.01, 0.1, 1]\n",
    "    },\n",
    "]\n",
    "\n",
    "grid = GridSearchCV(SVC(random_state=42),param_grid=params,cv=3,scoring='roc_auc',n_jobs=-1,verbose=2)\n",
    "grid.fit(X_train_under, y_train_under)\n",
    "\n",
    "print(grid.best_estimator_)\n",
    "print(grid.best_score_)\n",
    "\n",
    "y_pred = grid.best_estimator_.predict(X_test_pre)\n",
    "\n",
    "print(classification_report(y_test, y_pred))\n"
   ]
  },
  {
   "cell_type": "code",
   "execution_count": 25,
   "id": "794fa8fe",
   "metadata": {},
   "outputs": [
    {
     "name": "stdout",
     "output_type": "stream",
     "text": [
      "              precision    recall  f1-score   support\n",
      "\n",
      "           0       1.00      0.98      0.99   1270881\n",
      "           1       0.07      0.99      0.13      1643\n",
      "\n",
      "    accuracy                           0.98   1272524\n",
      "   macro avg       0.53      0.99      0.56   1272524\n",
      "weighted avg       1.00      0.98      0.99   1272524\n",
      "\n"
     ]
    }
   ],
   "source": [
    "from xgboost import XGBClassifier\n",
    "from sklearn.model_selection import RandomizedSearchCV, StratifiedKFold\n",
    "\n",
    "\n",
    "params = {\n",
    "    'max_depth' : [3,5,7,10],\n",
    "    'gamma' : [0, 0.1, 1],\n",
    "    'learning_rate' : [0.01, 0.05, 0.1, 0.5, 1],\n",
    "    'subsample' : [0.5, 0.6, 0.8,1]\n",
    "}\n",
    "\n",
    "#grid = GridSearchCV(XGBClassifier(tree_method='hist', n_estimators = 500), param_grid= params, cv = 3, scoring='roc_auc', n_jobs=1)\n",
    "\n",
    "model  = XGBClassifier(tree_method='hist', n_estimators = 1000, gamma= 0.1, learning_rate= 0.1, max_depth= 5, subsample= 0.8, scale_pos_weight=1, max_delta_step=1)\n",
    "#grid.fit(X_train_under,y_train_under)\n",
    "\n",
    "model.fit(X_train_under, y_train_under)\n",
    "\n",
    "y_pred = model.predict(X_test_pre)\n",
    "\n",
    "#y_pred = grid.best_estimator_.predict(X_test_pre)\n",
    "\n",
    "print(classification_report(y_test, y_pred))\n",
    "\n",
    "# model = XGBClassifier(tree_method='hist', n_estimators = 1000, gamma= 0.1, learning_rate= 0.5, max_depth= 5, subsample= 1, n_jobs = 1)\n",
    "\n",
    "# model.fit(X_res, y_res)\n",
    "# y_prob = model.predict_proba(X_test_pre)[:, 1]\n",
    "# roc_auc = roc_auc_score(y_test, y_prob)\n",
    "\n",
    "# print(roc_auc)\n"
   ]
  },
  {
   "cell_type": "code",
   "execution_count": 26,
   "id": "806acba4",
   "metadata": {},
   "outputs": [],
   "source": [
    "# y_pred = model.predict(X_test_pre)\n",
    "\n",
    "# print(classification_report(y_test, y_pred))"
   ]
  },
  {
   "cell_type": "markdown",
   "id": "55cc91a3",
   "metadata": {},
   "source": [
    "## ROC accuracy \n",
    "\n",
    "* LogisticRegression with l2, C = 1 and undersampling: 94.24919321022405%\n",
    "\n",
    "* LogisticRegression with l2, C = 1 and oversampling: 98.16511961895931%\n",
    "\n",
    "* RandomForestClassifier with min_samples_leaf=2, min_samples_split=5, n_estimators=500, and undersampling: 99.8561887088815%\n",
    "\n",
    "* RandomForestClassifier with oversampling taking too much time and still there is no result but I assume it will reach 100%\n",
    "\n",
    "* Support Vector Classifier with C=1, degree=4, gamma=1, kernel='poly', random_state=42 and undersampling: 98.38880896283785%\n",
    "\n",
    "* XGBClassifier with 'gamma': 0.1, 'learning_rate': 0.5, 'max_depth': 5, 'subsample': 1 and undersampling: 99.87323380802456%\n",
    "\n",
    "* XGBClassifier with 'gamma': 0.1, 'learning_rate': 0.5, 'max_depth': 5, 'subsample': 1 and oversampling: 99.88140738364912%\n"
   ]
  },
  {
   "cell_type": "markdown",
   "id": "03b695e5",
   "metadata": {},
   "source": [
    "## Deep Learning "
   ]
  },
  {
   "cell_type": "code",
   "execution_count": null,
   "id": "4d199a4a",
   "metadata": {},
   "outputs": [],
   "source": [
    "import tensorflow as tf\n",
    "from tensorflow import keras\n",
    "from tensorflow.keras import Sequential\n",
    "from tensorflow.keras.layers import Dense, BatchNormalization, Dropout\n",
    "from tensorflow.keras.callbacks import EarlyStopping\n",
    "from tensorflow.keras.optimizers import Adam, SGD, RMSprop\n",
    "from tensorflow.keras.metrics import AUC\n",
    "\n",
    "input_dim = X_train_under.shape[1]\n",
    "# print(input_dim)\n",
    "\n",
    "model = Sequential([\n",
    "    Dense(128,activation='relu',input_dim=input_dim),\n",
    "    BatchNormalization(),\n",
    "    Dropout(0.2),\n",
    "\n",
    "    Dense(64,activation='relu'),\n",
    "    BatchNormalization(),\n",
    "    Dropout(0.2),\n",
    "\n",
    "    Dense(32,activation='relu'),\n",
    "    BatchNormalization(),\n",
    "    Dropout(0.2),\n",
    "\n",
    "    Dense(16,activation='relu'),\n",
    "    BatchNormalization(),\n",
    "    Dropout(0.2),\n",
    "\n",
    "    Dense(8,activation='relu'),\n",
    "    BatchNormalization(),\n",
    "\n",
    "    Dense(1,activation='sigmoid')\n",
    "])\n",
    "\n",
    "model.compile(optimizer = Adam(0.0001), loss='binary_crossentropy', metrics=['accuracy', AUC(name='auc')])"
   ]
  },
  {
   "cell_type": "code",
   "execution_count": 55,
   "id": "04ab74ac",
   "metadata": {},
   "outputs": [
    {
     "name": "stdout",
     "output_type": "stream",
     "text": [
      "Epoch 1/200\n",
      "\u001b[1m124/124\u001b[0m \u001b[32m━━━━━━━━━━━━━━━━━━━━\u001b[0m\u001b[37m\u001b[0m \u001b[1m7s\u001b[0m 13ms/step - accuracy: 0.6483 - auc: 0.6894 - loss: 0.7047 - val_accuracy: 0.6410 - val_auc: 0.0000e+00 - val_loss: 0.6511\n",
      "Epoch 2/200\n",
      "\u001b[1m124/124\u001b[0m \u001b[32m━━━━━━━━━━━━━━━━━━━━\u001b[0m\u001b[37m\u001b[0m \u001b[1m1s\u001b[0m 7ms/step - accuracy: 0.7378 - auc: 0.8022 - loss: 0.5508 - val_accuracy: 0.6471 - val_auc: 0.0000e+00 - val_loss: 0.5519\n",
      "Epoch 3/200\n",
      "\u001b[1m124/124\u001b[0m \u001b[32m━━━━━━━━━━━━━━━━━━━━\u001b[0m\u001b[37m\u001b[0m \u001b[1m1s\u001b[0m 6ms/step - accuracy: 0.7722 - auc: 0.8474 - loss: 0.4829 - val_accuracy: 0.7652 - val_auc: 0.0000e+00 - val_loss: 0.4395\n",
      "Epoch 4/200\n",
      "\u001b[1m124/124\u001b[0m \u001b[32m━━━━━━━━━━━━━━━━━━━━\u001b[0m\u001b[37m\u001b[0m \u001b[1m1s\u001b[0m 6ms/step - accuracy: 0.8033 - auc: 0.8773 - loss: 0.4383 - val_accuracy: 0.8174 - val_auc: 0.0000e+00 - val_loss: 0.4120\n",
      "Epoch 5/200\n",
      "\u001b[1m124/124\u001b[0m \u001b[32m━━━━━━━━━━━━━━━━━━━━\u001b[0m\u001b[37m\u001b[0m \u001b[1m1s\u001b[0m 6ms/step - accuracy: 0.8208 - auc: 0.8888 - loss: 0.4169 - val_accuracy: 0.8281 - val_auc: 0.0000e+00 - val_loss: 0.3856\n",
      "Epoch 6/200\n",
      "\u001b[1m124/124\u001b[0m \u001b[32m━━━━━━━━━━━━━━━━━━━━\u001b[0m\u001b[37m\u001b[0m \u001b[1m1s\u001b[0m 6ms/step - accuracy: 0.8328 - auc: 0.8995 - loss: 0.3993 - val_accuracy: 0.8301 - val_auc: 0.0000e+00 - val_loss: 0.3820\n",
      "Epoch 7/200\n",
      "\u001b[1m124/124\u001b[0m \u001b[32m━━━━━━━━━━━━━━━━━━━━\u001b[0m\u001b[37m\u001b[0m \u001b[1m1s\u001b[0m 6ms/step - accuracy: 0.8387 - auc: 0.9094 - loss: 0.3788 - val_accuracy: 0.8347 - val_auc: 0.0000e+00 - val_loss: 0.3588\n",
      "Epoch 8/200\n",
      "\u001b[1m124/124\u001b[0m \u001b[32m━━━━━━━━━━━━━━━━━━━━\u001b[0m\u001b[37m\u001b[0m \u001b[1m1s\u001b[0m 6ms/step - accuracy: 0.8503 - auc: 0.9150 - loss: 0.3663 - val_accuracy: 0.8362 - val_auc: 0.0000e+00 - val_loss: 0.3606\n",
      "Epoch 9/200\n",
      "\u001b[1m124/124\u001b[0m \u001b[32m━━━━━━━━━━━━━━━━━━━━\u001b[0m\u001b[37m\u001b[0m \u001b[1m1s\u001b[0m 6ms/step - accuracy: 0.8520 - auc: 0.9195 - loss: 0.3575 - val_accuracy: 0.8382 - val_auc: 0.0000e+00 - val_loss: 0.3589\n",
      "Epoch 10/200\n",
      "\u001b[1m124/124\u001b[0m \u001b[32m━━━━━━━━━━━━━━━━━━━━\u001b[0m\u001b[37m\u001b[0m \u001b[1m1s\u001b[0m 6ms/step - accuracy: 0.8579 - auc: 0.9254 - loss: 0.3429 - val_accuracy: 0.8403 - val_auc: 0.0000e+00 - val_loss: 0.3514\n",
      "Epoch 11/200\n",
      "\u001b[1m124/124\u001b[0m \u001b[32m━━━━━━━━━━━━━━━━━━━━\u001b[0m\u001b[37m\u001b[0m \u001b[1m1s\u001b[0m 6ms/step - accuracy: 0.8672 - auc: 0.9321 - loss: 0.3279 - val_accuracy: 0.8387 - val_auc: 0.0000e+00 - val_loss: 0.3493\n",
      "Epoch 12/200\n",
      "\u001b[1m124/124\u001b[0m \u001b[32m━━━━━━━━━━━━━━━━━━━━\u001b[0m\u001b[37m\u001b[0m \u001b[1m1s\u001b[0m 6ms/step - accuracy: 0.8740 - auc: 0.9327 - loss: 0.3260 - val_accuracy: 0.8408 - val_auc: 0.0000e+00 - val_loss: 0.3325\n",
      "Epoch 13/200\n",
      "\u001b[1m124/124\u001b[0m \u001b[32m━━━━━━━━━━━━━━━━━━━━\u001b[0m\u001b[37m\u001b[0m \u001b[1m1s\u001b[0m 7ms/step - accuracy: 0.8705 - auc: 0.9343 - loss: 0.3186 - val_accuracy: 0.8372 - val_auc: 0.0000e+00 - val_loss: 0.3286\n",
      "Epoch 14/200\n",
      "\u001b[1m124/124\u001b[0m \u001b[32m━━━━━━━━━━━━━━━━━━━━\u001b[0m\u001b[37m\u001b[0m \u001b[1m1s\u001b[0m 6ms/step - accuracy: 0.8730 - auc: 0.9380 - loss: 0.3109 - val_accuracy: 0.8357 - val_auc: 0.0000e+00 - val_loss: 0.3321\n",
      "Epoch 15/200\n",
      "\u001b[1m124/124\u001b[0m \u001b[32m━━━━━━━━━━━━━━━━━━━━\u001b[0m\u001b[37m\u001b[0m \u001b[1m1s\u001b[0m 6ms/step - accuracy: 0.8809 - auc: 0.9409 - loss: 0.3016 - val_accuracy: 0.8362 - val_auc: 0.0000e+00 - val_loss: 0.3277\n",
      "Epoch 16/200\n",
      "\u001b[1m124/124\u001b[0m \u001b[32m━━━━━━━━━━━━━━━━━━━━\u001b[0m\u001b[37m\u001b[0m \u001b[1m1s\u001b[0m 6ms/step - accuracy: 0.8824 - auc: 0.9432 - loss: 0.2945 - val_accuracy: 0.8352 - val_auc: 0.0000e+00 - val_loss: 0.3281\n",
      "Epoch 17/200\n",
      "\u001b[1m124/124\u001b[0m \u001b[32m━━━━━━━━━━━━━━━━━━━━\u001b[0m\u001b[37m\u001b[0m \u001b[1m1s\u001b[0m 6ms/step - accuracy: 0.8852 - auc: 0.9455 - loss: 0.2884 - val_accuracy: 0.8377 - val_auc: 0.0000e+00 - val_loss: 0.3221\n",
      "Epoch 18/200\n",
      "\u001b[1m124/124\u001b[0m \u001b[32m━━━━━━━━━━━━━━━━━━━━\u001b[0m\u001b[37m\u001b[0m \u001b[1m1s\u001b[0m 5ms/step - accuracy: 0.8898 - auc: 0.9479 - loss: 0.2831 - val_accuracy: 0.8382 - val_auc: 0.0000e+00 - val_loss: 0.3156\n",
      "Epoch 19/200\n",
      "\u001b[1m124/124\u001b[0m \u001b[32m━━━━━━━━━━━━━━━━━━━━\u001b[0m\u001b[37m\u001b[0m \u001b[1m1s\u001b[0m 6ms/step - accuracy: 0.8828 - auc: 0.9465 - loss: 0.2842 - val_accuracy: 0.8398 - val_auc: 0.0000e+00 - val_loss: 0.3184\n",
      "Epoch 20/200\n",
      "\u001b[1m124/124\u001b[0m \u001b[32m━━━━━━━━━━━━━━━━━━━━\u001b[0m\u001b[37m\u001b[0m \u001b[1m1s\u001b[0m 5ms/step - accuracy: 0.8938 - auc: 0.9499 - loss: 0.2744 - val_accuracy: 0.8423 - val_auc: 0.0000e+00 - val_loss: 0.3165\n",
      "Epoch 21/200\n",
      "\u001b[1m124/124\u001b[0m \u001b[32m━━━━━━━━━━━━━━━━━━━━\u001b[0m\u001b[37m\u001b[0m \u001b[1m1s\u001b[0m 5ms/step - accuracy: 0.8957 - auc: 0.9544 - loss: 0.2650 - val_accuracy: 0.8428 - val_auc: 0.0000e+00 - val_loss: 0.3159\n",
      "Epoch 22/200\n",
      "\u001b[1m124/124\u001b[0m \u001b[32m━━━━━━━━━━━━━━━━━━━━\u001b[0m\u001b[37m\u001b[0m \u001b[1m1s\u001b[0m 6ms/step - accuracy: 0.8946 - auc: 0.9516 - loss: 0.2715 - val_accuracy: 0.8479 - val_auc: 0.0000e+00 - val_loss: 0.2992\n",
      "Epoch 23/200\n",
      "\u001b[1m124/124\u001b[0m \u001b[32m━━━━━━━━━━━━━━━━━━━━\u001b[0m\u001b[37m\u001b[0m \u001b[1m1s\u001b[0m 5ms/step - accuracy: 0.8992 - auc: 0.9581 - loss: 0.2529 - val_accuracy: 0.8463 - val_auc: 0.0000e+00 - val_loss: 0.3011\n",
      "Epoch 24/200\n",
      "\u001b[1m124/124\u001b[0m \u001b[32m━━━━━━━━━━━━━━━━━━━━\u001b[0m\u001b[37m\u001b[0m \u001b[1m1s\u001b[0m 5ms/step - accuracy: 0.8946 - auc: 0.9543 - loss: 0.2611 - val_accuracy: 0.8484 - val_auc: 0.0000e+00 - val_loss: 0.2939\n",
      "Epoch 25/200\n",
      "\u001b[1m124/124\u001b[0m \u001b[32m━━━━━━━━━━━━━━━━━━━━\u001b[0m\u001b[37m\u001b[0m \u001b[1m1s\u001b[0m 5ms/step - accuracy: 0.9022 - auc: 0.9554 - loss: 0.2569 - val_accuracy: 0.8458 - val_auc: 0.0000e+00 - val_loss: 0.3018\n",
      "Epoch 26/200\n",
      "\u001b[1m124/124\u001b[0m \u001b[32m━━━━━━━━━━━━━━━━━━━━\u001b[0m\u001b[37m\u001b[0m \u001b[1m1s\u001b[0m 5ms/step - accuracy: 0.9003 - auc: 0.9575 - loss: 0.2517 - val_accuracy: 0.8448 - val_auc: 0.0000e+00 - val_loss: 0.3078\n",
      "Epoch 27/200\n",
      "\u001b[1m124/124\u001b[0m \u001b[32m━━━━━━━━━━━━━━━━━━━━\u001b[0m\u001b[37m\u001b[0m \u001b[1m1s\u001b[0m 5ms/step - accuracy: 0.9021 - auc: 0.9591 - loss: 0.2483 - val_accuracy: 0.8484 - val_auc: 0.0000e+00 - val_loss: 0.2947\n",
      "Epoch 28/200\n",
      "\u001b[1m124/124\u001b[0m \u001b[32m━━━━━━━━━━━━━━━━━━━━\u001b[0m\u001b[37m\u001b[0m \u001b[1m1s\u001b[0m 6ms/step - accuracy: 0.9031 - auc: 0.9585 - loss: 0.2497 - val_accuracy: 0.8499 - val_auc: 0.0000e+00 - val_loss: 0.2906\n",
      "Epoch 29/200\n",
      "\u001b[1m124/124\u001b[0m \u001b[32m━━━━━━━━━━━━━━━━━━━━\u001b[0m\u001b[37m\u001b[0m \u001b[1m1s\u001b[0m 5ms/step - accuracy: 0.9059 - auc: 0.9611 - loss: 0.2422 - val_accuracy: 0.8560 - val_auc: 0.0000e+00 - val_loss: 0.2785\n",
      "Epoch 30/200\n",
      "\u001b[1m124/124\u001b[0m \u001b[32m━━━━━━━━━━━━━━━━━━━━\u001b[0m\u001b[37m\u001b[0m \u001b[1m1s\u001b[0m 6ms/step - accuracy: 0.9031 - auc: 0.9609 - loss: 0.2422 - val_accuracy: 0.8560 - val_auc: 0.0000e+00 - val_loss: 0.2811\n",
      "Epoch 31/200\n",
      "\u001b[1m124/124\u001b[0m \u001b[32m━━━━━━━━━━━━━━━━━━━━\u001b[0m\u001b[37m\u001b[0m \u001b[1m1s\u001b[0m 6ms/step - accuracy: 0.9046 - auc: 0.9622 - loss: 0.2382 - val_accuracy: 0.8499 - val_auc: 0.0000e+00 - val_loss: 0.2883\n",
      "Epoch 32/200\n",
      "\u001b[1m124/124\u001b[0m \u001b[32m━━━━━━━━━━━━━━━━━━━━\u001b[0m\u001b[37m\u001b[0m \u001b[1m1s\u001b[0m 6ms/step - accuracy: 0.9036 - auc: 0.9627 - loss: 0.2383 - val_accuracy: 0.8565 - val_auc: 0.0000e+00 - val_loss: 0.2763\n",
      "Epoch 33/200\n",
      "\u001b[1m124/124\u001b[0m \u001b[32m━━━━━━━━━━━━━━━━━━━━\u001b[0m\u001b[37m\u001b[0m \u001b[1m1s\u001b[0m 5ms/step - accuracy: 0.9083 - auc: 0.9643 - loss: 0.2342 - val_accuracy: 0.8560 - val_auc: 0.0000e+00 - val_loss: 0.2710\n",
      "Epoch 34/200\n",
      "\u001b[1m124/124\u001b[0m \u001b[32m━━━━━━━━━━━━━━━━━━━━\u001b[0m\u001b[37m\u001b[0m \u001b[1m1s\u001b[0m 5ms/step - accuracy: 0.9117 - auc: 0.9683 - loss: 0.2234 - val_accuracy: 0.8626 - val_auc: 0.0000e+00 - val_loss: 0.2616\n",
      "Epoch 35/200\n",
      "\u001b[1m124/124\u001b[0m \u001b[32m━━━━━━━━━━━━━━━━━━━━\u001b[0m\u001b[37m\u001b[0m \u001b[1m1s\u001b[0m 5ms/step - accuracy: 0.9103 - auc: 0.9674 - loss: 0.2233 - val_accuracy: 0.8621 - val_auc: 0.0000e+00 - val_loss: 0.2642\n",
      "Epoch 36/200\n",
      "\u001b[1m124/124\u001b[0m \u001b[32m━━━━━━━━━━━━━━━━━━━━\u001b[0m\u001b[37m\u001b[0m \u001b[1m1s\u001b[0m 6ms/step - accuracy: 0.9084 - auc: 0.9667 - loss: 0.2269 - val_accuracy: 0.8717 - val_auc: 0.0000e+00 - val_loss: 0.2503\n",
      "Epoch 37/200\n",
      "\u001b[1m124/124\u001b[0m \u001b[32m━━━━━━━━━━━━━━━━━━━━\u001b[0m\u001b[37m\u001b[0m \u001b[1m1s\u001b[0m 7ms/step - accuracy: 0.9159 - auc: 0.9713 - loss: 0.2115 - val_accuracy: 0.8773 - val_auc: 0.0000e+00 - val_loss: 0.2359\n",
      "Epoch 38/200\n",
      "\u001b[1m124/124\u001b[0m \u001b[32m━━━━━━━━━━━━━━━━━━━━\u001b[0m\u001b[37m\u001b[0m \u001b[1m1s\u001b[0m 6ms/step - accuracy: 0.9102 - auc: 0.9678 - loss: 0.2243 - val_accuracy: 0.8793 - val_auc: 0.0000e+00 - val_loss: 0.2244\n",
      "Epoch 39/200\n",
      "\u001b[1m124/124\u001b[0m \u001b[32m━━━━━━━━━━━━━━━━━━━━\u001b[0m\u001b[37m\u001b[0m \u001b[1m1s\u001b[0m 6ms/step - accuracy: 0.9150 - auc: 0.9691 - loss: 0.2187 - val_accuracy: 0.8849 - val_auc: 0.0000e+00 - val_loss: 0.2149\n",
      "Epoch 40/200\n",
      "\u001b[1m124/124\u001b[0m \u001b[32m━━━━━━━━━━━━━━━━━━━━\u001b[0m\u001b[37m\u001b[0m \u001b[1m1s\u001b[0m 6ms/step - accuracy: 0.9169 - auc: 0.9721 - loss: 0.2091 - val_accuracy: 0.8818 - val_auc: 0.0000e+00 - val_loss: 0.2194\n",
      "Epoch 41/200\n",
      "\u001b[1m124/124\u001b[0m \u001b[32m━━━━━━━━━━━━━━━━━━━━\u001b[0m\u001b[37m\u001b[0m \u001b[1m1s\u001b[0m 6ms/step - accuracy: 0.9135 - auc: 0.9712 - loss: 0.2099 - val_accuracy: 0.8824 - val_auc: 0.0000e+00 - val_loss: 0.2199\n",
      "Epoch 42/200\n",
      "\u001b[1m124/124\u001b[0m \u001b[32m━━━━━━━━━━━━━━━━━━━━\u001b[0m\u001b[37m\u001b[0m \u001b[1m1s\u001b[0m 6ms/step - accuracy: 0.9169 - auc: 0.9717 - loss: 0.2106 - val_accuracy: 0.8864 - val_auc: 0.0000e+00 - val_loss: 0.2064\n",
      "Epoch 43/200\n",
      "\u001b[1m124/124\u001b[0m \u001b[32m━━━━━━━━━━━━━━━━━━━━\u001b[0m\u001b[37m\u001b[0m \u001b[1m1s\u001b[0m 5ms/step - accuracy: 0.9202 - auc: 0.9745 - loss: 0.2001 - val_accuracy: 0.8859 - val_auc: 0.0000e+00 - val_loss: 0.2069\n",
      "Epoch 44/200\n",
      "\u001b[1m124/124\u001b[0m \u001b[32m━━━━━━━━━━━━━━━━━━━━\u001b[0m\u001b[37m\u001b[0m \u001b[1m1s\u001b[0m 6ms/step - accuracy: 0.9187 - auc: 0.9738 - loss: 0.2006 - val_accuracy: 0.8940 - val_auc: 0.0000e+00 - val_loss: 0.1917\n",
      "Epoch 45/200\n",
      "\u001b[1m124/124\u001b[0m \u001b[32m━━━━━━━━━━━━━━━━━━━━\u001b[0m\u001b[37m\u001b[0m \u001b[1m1s\u001b[0m 5ms/step - accuracy: 0.9215 - auc: 0.9760 - loss: 0.1948 - val_accuracy: 0.8834 - val_auc: 0.0000e+00 - val_loss: 0.2152\n",
      "Epoch 46/200\n",
      "\u001b[1m124/124\u001b[0m \u001b[32m━━━━━━━━━━━━━━━━━━━━\u001b[0m\u001b[37m\u001b[0m \u001b[1m1s\u001b[0m 6ms/step - accuracy: 0.9170 - auc: 0.9738 - loss: 0.2034 - val_accuracy: 0.8824 - val_auc: 0.0000e+00 - val_loss: 0.2170\n",
      "Epoch 47/200\n",
      "\u001b[1m124/124\u001b[0m \u001b[32m━━━━━━━━━━━━━━━━━━━━\u001b[0m\u001b[37m\u001b[0m \u001b[1m1s\u001b[0m 6ms/step - accuracy: 0.9211 - auc: 0.9755 - loss: 0.1979 - val_accuracy: 0.8864 - val_auc: 0.0000e+00 - val_loss: 0.2028\n",
      "Epoch 48/200\n",
      "\u001b[1m124/124\u001b[0m \u001b[32m━━━━━━━━━━━━━━━━━━━━\u001b[0m\u001b[37m\u001b[0m \u001b[1m1s\u001b[0m 6ms/step - accuracy: 0.9242 - auc: 0.9770 - loss: 0.1923 - val_accuracy: 0.8849 - val_auc: 0.0000e+00 - val_loss: 0.2099\n",
      "Epoch 49/200\n",
      "\u001b[1m124/124\u001b[0m \u001b[32m━━━━━━━━━━━━━━━━━━━━\u001b[0m\u001b[37m\u001b[0m \u001b[1m1s\u001b[0m 5ms/step - accuracy: 0.9182 - auc: 0.9751 - loss: 0.1991 - val_accuracy: 0.8834 - val_auc: 0.0000e+00 - val_loss: 0.2132\n",
      "Epoch 50/200\n",
      "\u001b[1m124/124\u001b[0m \u001b[32m━━━━━━━━━━━━━━━━━━━━\u001b[0m\u001b[37m\u001b[0m \u001b[1m1s\u001b[0m 5ms/step - accuracy: 0.9249 - auc: 0.9770 - loss: 0.1906 - val_accuracy: 0.8900 - val_auc: 0.0000e+00 - val_loss: 0.1967\n",
      "Epoch 51/200\n",
      "\u001b[1m124/124\u001b[0m \u001b[32m━━━━━━━━━━━━━━━━━━━━\u001b[0m\u001b[37m\u001b[0m \u001b[1m1s\u001b[0m 5ms/step - accuracy: 0.9225 - auc: 0.9780 - loss: 0.1862 - val_accuracy: 0.8879 - val_auc: 0.0000e+00 - val_loss: 0.2032\n",
      "Epoch 52/200\n",
      "\u001b[1m124/124\u001b[0m \u001b[32m━━━━━━━━━━━━━━━━━━━━\u001b[0m\u001b[37m\u001b[0m \u001b[1m1s\u001b[0m 6ms/step - accuracy: 0.9226 - auc: 0.9756 - loss: 0.1966 - val_accuracy: 0.8895 - val_auc: 0.0000e+00 - val_loss: 0.1989\n",
      "Epoch 53/200\n",
      "\u001b[1m124/124\u001b[0m \u001b[32m━━━━━━━━━━━━━━━━━━━━\u001b[0m\u001b[37m\u001b[0m \u001b[1m1s\u001b[0m 6ms/step - accuracy: 0.9243 - auc: 0.9804 - loss: 0.1787 - val_accuracy: 0.8920 - val_auc: 0.0000e+00 - val_loss: 0.1883\n",
      "Epoch 54/200\n",
      "\u001b[1m124/124\u001b[0m \u001b[32m━━━━━━━━━━━━━━━━━━━━\u001b[0m\u001b[37m\u001b[0m \u001b[1m1s\u001b[0m 5ms/step - accuracy: 0.9272 - auc: 0.9790 - loss: 0.1841 - val_accuracy: 0.8839 - val_auc: 0.0000e+00 - val_loss: 0.2097\n",
      "Epoch 55/200\n",
      "\u001b[1m124/124\u001b[0m \u001b[32m━━━━━━━━━━━━━━━━━━━━\u001b[0m\u001b[37m\u001b[0m \u001b[1m1s\u001b[0m 6ms/step - accuracy: 0.9297 - auc: 0.9796 - loss: 0.1806 - val_accuracy: 0.8874 - val_auc: 0.0000e+00 - val_loss: 0.2011\n",
      "Epoch 56/200\n",
      "\u001b[1m124/124\u001b[0m \u001b[32m━━━━━━━━━━━━━━━━━━━━\u001b[0m\u001b[37m\u001b[0m \u001b[1m1s\u001b[0m 7ms/step - accuracy: 0.9311 - auc: 0.9814 - loss: 0.1726 - val_accuracy: 0.8960 - val_auc: 0.0000e+00 - val_loss: 0.1791\n",
      "Epoch 57/200\n",
      "\u001b[1m124/124\u001b[0m \u001b[32m━━━━━━━━━━━━━━━━━━━━\u001b[0m\u001b[37m\u001b[0m \u001b[1m1s\u001b[0m 7ms/step - accuracy: 0.9295 - auc: 0.9801 - loss: 0.1784 - val_accuracy: 0.8884 - val_auc: 0.0000e+00 - val_loss: 0.2004\n",
      "Epoch 58/200\n",
      "\u001b[1m124/124\u001b[0m \u001b[32m━━━━━━━━━━━━━━━━━━━━\u001b[0m\u001b[37m\u001b[0m \u001b[1m1s\u001b[0m 6ms/step - accuracy: 0.9310 - auc: 0.9806 - loss: 0.1752 - val_accuracy: 0.8915 - val_auc: 0.0000e+00 - val_loss: 0.1926\n",
      "Epoch 59/200\n",
      "\u001b[1m124/124\u001b[0m \u001b[32m━━━━━━━━━━━━━━━━━━━━\u001b[0m\u001b[37m\u001b[0m \u001b[1m1s\u001b[0m 7ms/step - accuracy: 0.9313 - auc: 0.9811 - loss: 0.1738 - val_accuracy: 0.8966 - val_auc: 0.0000e+00 - val_loss: 0.1843\n",
      "Epoch 60/200\n",
      "\u001b[1m124/124\u001b[0m \u001b[32m━━━━━━━━━━━━━━━━━━━━\u001b[0m\u001b[37m\u001b[0m \u001b[1m1s\u001b[0m 6ms/step - accuracy: 0.9323 - auc: 0.9816 - loss: 0.1701 - val_accuracy: 0.8930 - val_auc: 0.0000e+00 - val_loss: 0.1906\n",
      "Epoch 61/200\n",
      "\u001b[1m124/124\u001b[0m \u001b[32m━━━━━━━━━━━━━━━━━━━━\u001b[0m\u001b[37m\u001b[0m \u001b[1m1s\u001b[0m 8ms/step - accuracy: 0.9353 - auc: 0.9818 - loss: 0.1695 - val_accuracy: 0.8945 - val_auc: 0.0000e+00 - val_loss: 0.1851\n",
      "Epoch 62/200\n",
      "\u001b[1m124/124\u001b[0m \u001b[32m━━━━━━━━━━━━━━━━━━━━\u001b[0m\u001b[37m\u001b[0m \u001b[1m1s\u001b[0m 6ms/step - accuracy: 0.9320 - auc: 0.9814 - loss: 0.1705 - val_accuracy: 0.9006 - val_auc: 0.0000e+00 - val_loss: 0.1788\n",
      "Epoch 63/200\n",
      "\u001b[1m124/124\u001b[0m \u001b[32m━━━━━━━━━━━━━━━━━━━━\u001b[0m\u001b[37m\u001b[0m \u001b[1m1s\u001b[0m 6ms/step - accuracy: 0.9299 - auc: 0.9824 - loss: 0.1676 - val_accuracy: 0.8981 - val_auc: 0.0000e+00 - val_loss: 0.1820\n",
      "Epoch 64/200\n",
      "\u001b[1m124/124\u001b[0m \u001b[32m━━━━━━━━━━━━━━━━━━━━\u001b[0m\u001b[37m\u001b[0m \u001b[1m1s\u001b[0m 7ms/step - accuracy: 0.9346 - auc: 0.9832 - loss: 0.1640 - val_accuracy: 0.8960 - val_auc: 0.0000e+00 - val_loss: 0.1850\n",
      "Epoch 65/200\n",
      "\u001b[1m124/124\u001b[0m \u001b[32m━━━━━━━━━━━━━━━━━━━━\u001b[0m\u001b[37m\u001b[0m \u001b[1m1s\u001b[0m 5ms/step - accuracy: 0.9362 - auc: 0.9840 - loss: 0.1605 - val_accuracy: 0.9006 - val_auc: 0.0000e+00 - val_loss: 0.1795\n",
      "Epoch 66/200\n",
      "\u001b[1m124/124\u001b[0m \u001b[32m━━━━━━━━━━━━━━━━━━━━\u001b[0m\u001b[37m\u001b[0m \u001b[1m1s\u001b[0m 6ms/step - accuracy: 0.9343 - auc: 0.9826 - loss: 0.1667 - val_accuracy: 0.9062 - val_auc: 0.0000e+00 - val_loss: 0.1754\n",
      "Epoch 67/200\n",
      "\u001b[1m124/124\u001b[0m \u001b[32m━━━━━━━━━━━━━━━━━━━━\u001b[0m\u001b[37m\u001b[0m \u001b[1m1s\u001b[0m 5ms/step - accuracy: 0.9376 - auc: 0.9830 - loss: 0.1641 - val_accuracy: 0.9047 - val_auc: 0.0000e+00 - val_loss: 0.1796\n",
      "Epoch 68/200\n",
      "\u001b[1m124/124\u001b[0m \u001b[32m━━━━━━━━━━━━━━━━━━━━\u001b[0m\u001b[37m\u001b[0m \u001b[1m1s\u001b[0m 5ms/step - accuracy: 0.9381 - auc: 0.9837 - loss: 0.1598 - val_accuracy: 0.9072 - val_auc: 0.0000e+00 - val_loss: 0.1743\n",
      "Epoch 69/200\n",
      "\u001b[1m124/124\u001b[0m \u001b[32m━━━━━━━━━━━━━━━━━━━━\u001b[0m\u001b[37m\u001b[0m \u001b[1m1s\u001b[0m 6ms/step - accuracy: 0.9382 - auc: 0.9848 - loss: 0.1559 - val_accuracy: 0.8991 - val_auc: 0.0000e+00 - val_loss: 0.1885\n",
      "Epoch 70/200\n",
      "\u001b[1m124/124\u001b[0m \u001b[32m━━━━━━━━━━━━━━━━━━━━\u001b[0m\u001b[37m\u001b[0m \u001b[1m1s\u001b[0m 6ms/step - accuracy: 0.9394 - auc: 0.9847 - loss: 0.1565 - val_accuracy: 0.8991 - val_auc: 0.0000e+00 - val_loss: 0.1848\n",
      "Epoch 71/200\n",
      "\u001b[1m124/124\u001b[0m \u001b[32m━━━━━━━━━━━━━━━━━━━━\u001b[0m\u001b[37m\u001b[0m \u001b[1m1s\u001b[0m 6ms/step - accuracy: 0.9382 - auc: 0.9840 - loss: 0.1587 - val_accuracy: 0.8981 - val_auc: 0.0000e+00 - val_loss: 0.1852\n",
      "Epoch 72/200\n",
      "\u001b[1m124/124\u001b[0m \u001b[32m━━━━━━━━━━━━━━━━━━━━\u001b[0m\u001b[37m\u001b[0m \u001b[1m1s\u001b[0m 5ms/step - accuracy: 0.9361 - auc: 0.9841 - loss: 0.1584 - val_accuracy: 0.9031 - val_auc: 0.0000e+00 - val_loss: 0.1791\n",
      "Epoch 73/200\n",
      "\u001b[1m124/124\u001b[0m \u001b[32m━━━━━━━━━━━━━━━━━━━━\u001b[0m\u001b[37m\u001b[0m \u001b[1m1s\u001b[0m 5ms/step - accuracy: 0.9373 - auc: 0.9856 - loss: 0.1526 - val_accuracy: 0.9108 - val_auc: 0.0000e+00 - val_loss: 0.1639\n",
      "Epoch 74/200\n",
      "\u001b[1m124/124\u001b[0m \u001b[32m━━━━━━━━━━━━━━━━━━━━\u001b[0m\u001b[37m\u001b[0m \u001b[1m1s\u001b[0m 6ms/step - accuracy: 0.9385 - auc: 0.9844 - loss: 0.1573 - val_accuracy: 0.8971 - val_auc: 0.0000e+00 - val_loss: 0.1884\n",
      "Epoch 75/200\n",
      "\u001b[1m124/124\u001b[0m \u001b[32m━━━━━━━━━━━━━━━━━━━━\u001b[0m\u001b[37m\u001b[0m \u001b[1m1s\u001b[0m 6ms/step - accuracy: 0.9353 - auc: 0.9846 - loss: 0.1571 - val_accuracy: 0.8976 - val_auc: 0.0000e+00 - val_loss: 0.1860\n",
      "Epoch 76/200\n",
      "\u001b[1m124/124\u001b[0m \u001b[32m━━━━━━━━━━━━━━━━━━━━\u001b[0m\u001b[37m\u001b[0m \u001b[1m1s\u001b[0m 5ms/step - accuracy: 0.9367 - auc: 0.9844 - loss: 0.1586 - val_accuracy: 0.8950 - val_auc: 0.0000e+00 - val_loss: 0.1877\n",
      "Epoch 77/200\n",
      "\u001b[1m124/124\u001b[0m \u001b[32m━━━━━━━━━━━━━━━━━━━━\u001b[0m\u001b[37m\u001b[0m \u001b[1m1s\u001b[0m 6ms/step - accuracy: 0.9387 - auc: 0.9848 - loss: 0.1547 - val_accuracy: 0.9072 - val_auc: 0.0000e+00 - val_loss: 0.1681\n",
      "Epoch 78/200\n",
      "\u001b[1m124/124\u001b[0m \u001b[32m━━━━━━━━━━━━━━━━━━━━\u001b[0m\u001b[37m\u001b[0m \u001b[1m1s\u001b[0m 5ms/step - accuracy: 0.9406 - auc: 0.9854 - loss: 0.1518 - val_accuracy: 0.8950 - val_auc: 0.0000e+00 - val_loss: 0.1915\n",
      "Epoch 79/200\n",
      "\u001b[1m124/124\u001b[0m \u001b[32m━━━━━━━━━━━━━━━━━━━━\u001b[0m\u001b[37m\u001b[0m \u001b[1m1s\u001b[0m 5ms/step - accuracy: 0.9392 - auc: 0.9852 - loss: 0.1520 - val_accuracy: 0.8991 - val_auc: 0.0000e+00 - val_loss: 0.1822\n",
      "Epoch 80/200\n",
      "\u001b[1m124/124\u001b[0m \u001b[32m━━━━━━━━━━━━━━━━━━━━\u001b[0m\u001b[37m\u001b[0m \u001b[1m1s\u001b[0m 6ms/step - accuracy: 0.9387 - auc: 0.9854 - loss: 0.1519 - val_accuracy: 0.9052 - val_auc: 0.0000e+00 - val_loss: 0.1742\n",
      "Epoch 81/200\n",
      "\u001b[1m124/124\u001b[0m \u001b[32m━━━━━━━━━━━━━━━━━━━━\u001b[0m\u001b[37m\u001b[0m \u001b[1m1s\u001b[0m 5ms/step - accuracy: 0.9361 - auc: 0.9850 - loss: 0.1539 - val_accuracy: 0.8910 - val_auc: 0.0000e+00 - val_loss: 0.1998\n",
      "Epoch 82/200\n",
      "\u001b[1m124/124\u001b[0m \u001b[32m━━━━━━━━━━━━━━━━━━━━\u001b[0m\u001b[37m\u001b[0m \u001b[1m1s\u001b[0m 5ms/step - accuracy: 0.9419 - auc: 0.9870 - loss: 0.1426 - val_accuracy: 0.9011 - val_auc: 0.0000e+00 - val_loss: 0.1759\n",
      "Epoch 83/200\n",
      "\u001b[1m124/124\u001b[0m \u001b[32m━━━━━━━━━━━━━━━━━━━━\u001b[0m\u001b[37m\u001b[0m \u001b[1m1s\u001b[0m 6ms/step - accuracy: 0.9400 - auc: 0.9864 - loss: 0.1476 - val_accuracy: 0.9067 - val_auc: 0.0000e+00 - val_loss: 0.1729\n",
      "Epoch 84/200\n",
      "\u001b[1m124/124\u001b[0m \u001b[32m━━━━━━━━━━━━━━━━━━━━\u001b[0m\u001b[37m\u001b[0m \u001b[1m1s\u001b[0m 5ms/step - accuracy: 0.9429 - auc: 0.9872 - loss: 0.1414 - val_accuracy: 0.8981 - val_auc: 0.0000e+00 - val_loss: 0.1907\n",
      "Epoch 85/200\n",
      "\u001b[1m124/124\u001b[0m \u001b[32m━━━━━━━━━━━━━━━━━━━━\u001b[0m\u001b[37m\u001b[0m \u001b[1m1s\u001b[0m 6ms/step - accuracy: 0.9441 - auc: 0.9865 - loss: 0.1449 - val_accuracy: 0.9047 - val_auc: 0.0000e+00 - val_loss: 0.1818\n",
      "Epoch 86/200\n",
      "\u001b[1m124/124\u001b[0m \u001b[32m━━━━━━━━━━━━━━━━━━━━\u001b[0m\u001b[37m\u001b[0m \u001b[1m1s\u001b[0m 5ms/step - accuracy: 0.9409 - auc: 0.9866 - loss: 0.1464 - val_accuracy: 0.9097 - val_auc: 0.0000e+00 - val_loss: 0.1710\n",
      "Epoch 87/200\n",
      "\u001b[1m124/124\u001b[0m \u001b[32m━━━━━━━━━━━━━━━━━━━━\u001b[0m\u001b[37m\u001b[0m \u001b[1m1s\u001b[0m 5ms/step - accuracy: 0.9414 - auc: 0.9869 - loss: 0.1431 - val_accuracy: 0.9118 - val_auc: 0.0000e+00 - val_loss: 0.1693\n",
      "Epoch 88/200\n",
      "\u001b[1m124/124\u001b[0m \u001b[32m━━━━━━━━━━━━━━━━━━━━\u001b[0m\u001b[37m\u001b[0m \u001b[1m1s\u001b[0m 5ms/step - accuracy: 0.9413 - auc: 0.9863 - loss: 0.1466 - val_accuracy: 0.8996 - val_auc: 0.0000e+00 - val_loss: 0.1892\n",
      "Epoch 89/200\n",
      "\u001b[1m124/124\u001b[0m \u001b[32m━━━━━━━━━━━━━━━━━━━━\u001b[0m\u001b[37m\u001b[0m \u001b[1m1s\u001b[0m 5ms/step - accuracy: 0.9425 - auc: 0.9864 - loss: 0.1460 - val_accuracy: 0.8966 - val_auc: 0.0000e+00 - val_loss: 0.1936\n",
      "Epoch 90/200\n",
      "\u001b[1m124/124\u001b[0m \u001b[32m━━━━━━━━━━━━━━━━━━━━\u001b[0m\u001b[37m\u001b[0m \u001b[1m1s\u001b[0m 6ms/step - accuracy: 0.9422 - auc: 0.9861 - loss: 0.1493 - val_accuracy: 0.9021 - val_auc: 0.0000e+00 - val_loss: 0.1780\n",
      "Epoch 91/200\n",
      "\u001b[1m124/124\u001b[0m \u001b[32m━━━━━━━━━━━━━━━━━━━━\u001b[0m\u001b[37m\u001b[0m \u001b[1m1s\u001b[0m 6ms/step - accuracy: 0.9405 - auc: 0.9868 - loss: 0.1460 - val_accuracy: 0.9057 - val_auc: 0.0000e+00 - val_loss: 0.1786\n",
      "Epoch 92/200\n",
      "\u001b[1m124/124\u001b[0m \u001b[32m━━━━━━━━━━━━━━━━━━━━\u001b[0m\u001b[37m\u001b[0m \u001b[1m1s\u001b[0m 6ms/step - accuracy: 0.9450 - auc: 0.9873 - loss: 0.1397 - val_accuracy: 0.8945 - val_auc: 0.0000e+00 - val_loss: 0.1960\n",
      "Epoch 93/200\n",
      "\u001b[1m124/124\u001b[0m \u001b[32m━━━━━━━━━━━━━━━━━━━━\u001b[0m\u001b[37m\u001b[0m \u001b[1m1s\u001b[0m 6ms/step - accuracy: 0.9389 - auc: 0.9865 - loss: 0.1468 - val_accuracy: 0.9148 - val_auc: 0.0000e+00 - val_loss: 0.1616\n",
      "Epoch 94/200\n",
      "\u001b[1m124/124\u001b[0m \u001b[32m━━━━━━━━━━━━━━━━━━━━\u001b[0m\u001b[37m\u001b[0m \u001b[1m1s\u001b[0m 6ms/step - accuracy: 0.9443 - auc: 0.9871 - loss: 0.1410 - val_accuracy: 0.9102 - val_auc: 0.0000e+00 - val_loss: 0.1709\n",
      "Epoch 95/200\n",
      "\u001b[1m124/124\u001b[0m \u001b[32m━━━━━━━━━━━━━━━━━━━━\u001b[0m\u001b[37m\u001b[0m \u001b[1m1s\u001b[0m 6ms/step - accuracy: 0.9443 - auc: 0.9874 - loss: 0.1405 - val_accuracy: 0.9102 - val_auc: 0.0000e+00 - val_loss: 0.1721\n",
      "Epoch 96/200\n",
      "\u001b[1m124/124\u001b[0m \u001b[32m━━━━━━━━━━━━━━━━━━━━\u001b[0m\u001b[37m\u001b[0m \u001b[1m1s\u001b[0m 6ms/step - accuracy: 0.9432 - auc: 0.9872 - loss: 0.1408 - val_accuracy: 0.9026 - val_auc: 0.0000e+00 - val_loss: 0.1859\n",
      "Epoch 97/200\n",
      "\u001b[1m124/124\u001b[0m \u001b[32m━━━━━━━━━━━━━━━━━━━━\u001b[0m\u001b[37m\u001b[0m \u001b[1m1s\u001b[0m 6ms/step - accuracy: 0.9442 - auc: 0.9875 - loss: 0.1395 - val_accuracy: 0.9026 - val_auc: 0.0000e+00 - val_loss: 0.1847\n",
      "Epoch 98/200\n",
      "\u001b[1m124/124\u001b[0m \u001b[32m━━━━━━━━━━━━━━━━━━━━\u001b[0m\u001b[37m\u001b[0m \u001b[1m1s\u001b[0m 5ms/step - accuracy: 0.9437 - auc: 0.9870 - loss: 0.1416 - val_accuracy: 0.9047 - val_auc: 0.0000e+00 - val_loss: 0.1783\n",
      "Epoch 99/200\n",
      "\u001b[1m124/124\u001b[0m \u001b[32m━━━━━━━━━━━━━━━━━━━━\u001b[0m\u001b[37m\u001b[0m \u001b[1m1s\u001b[0m 5ms/step - accuracy: 0.9446 - auc: 0.9879 - loss: 0.1380 - val_accuracy: 0.9087 - val_auc: 0.0000e+00 - val_loss: 0.1704\n",
      "Epoch 100/200\n",
      "\u001b[1m124/124\u001b[0m \u001b[32m━━━━━━━━━━━━━━━━━━━━\u001b[0m\u001b[37m\u001b[0m \u001b[1m1s\u001b[0m 5ms/step - accuracy: 0.9456 - auc: 0.9877 - loss: 0.1370 - val_accuracy: 0.9097 - val_auc: 0.0000e+00 - val_loss: 0.1666\n",
      "Epoch 101/200\n",
      "\u001b[1m124/124\u001b[0m \u001b[32m━━━━━━━━━━━━━━━━━━━━\u001b[0m\u001b[37m\u001b[0m \u001b[1m1s\u001b[0m 6ms/step - accuracy: 0.9470 - auc: 0.9877 - loss: 0.1358 - val_accuracy: 0.9097 - val_auc: 0.0000e+00 - val_loss: 0.1696\n",
      "Epoch 102/200\n",
      "\u001b[1m124/124\u001b[0m \u001b[32m━━━━━━━━━━━━━━━━━━━━\u001b[0m\u001b[37m\u001b[0m \u001b[1m1s\u001b[0m 5ms/step - accuracy: 0.9446 - auc: 0.9881 - loss: 0.1378 - val_accuracy: 0.8971 - val_auc: 0.0000e+00 - val_loss: 0.1928\n",
      "Epoch 103/200\n",
      "\u001b[1m124/124\u001b[0m \u001b[32m━━━━━━━━━━━━━━━━━━━━\u001b[0m\u001b[37m\u001b[0m \u001b[1m1s\u001b[0m 6ms/step - accuracy: 0.9438 - auc: 0.9876 - loss: 0.1403 - val_accuracy: 0.9021 - val_auc: 0.0000e+00 - val_loss: 0.1814\n",
      "Epoch 104/200\n",
      "\u001b[1m124/124\u001b[0m \u001b[32m━━━━━━━━━━━━━━━━━━━━\u001b[0m\u001b[37m\u001b[0m \u001b[1m1s\u001b[0m 6ms/step - accuracy: 0.9436 - auc: 0.9880 - loss: 0.1378 - val_accuracy: 0.8966 - val_auc: 0.0000e+00 - val_loss: 0.2014\n",
      "Epoch 105/200\n",
      "\u001b[1m124/124\u001b[0m \u001b[32m━━━━━━━━━━━━━━━━━━━━\u001b[0m\u001b[37m\u001b[0m \u001b[1m1s\u001b[0m 6ms/step - accuracy: 0.9475 - auc: 0.9891 - loss: 0.1297 - val_accuracy: 0.9031 - val_auc: 0.0000e+00 - val_loss: 0.1842\n",
      "Epoch 106/200\n",
      "\u001b[1m124/124\u001b[0m \u001b[32m━━━━━━━━━━━━━━━━━━━━\u001b[0m\u001b[37m\u001b[0m \u001b[1m1s\u001b[0m 5ms/step - accuracy: 0.9451 - auc: 0.9877 - loss: 0.1366 - val_accuracy: 0.9011 - val_auc: 0.0000e+00 - val_loss: 0.1943\n",
      "Epoch 107/200\n",
      "\u001b[1m124/124\u001b[0m \u001b[32m━━━━━━━━━━━━━━━━━━━━\u001b[0m\u001b[37m\u001b[0m \u001b[1m1s\u001b[0m 5ms/step - accuracy: 0.9485 - auc: 0.9891 - loss: 0.1300 - val_accuracy: 0.9006 - val_auc: 0.0000e+00 - val_loss: 0.1920\n",
      "Epoch 108/200\n",
      "\u001b[1m124/124\u001b[0m \u001b[32m━━━━━━━━━━━━━━━━━━━━\u001b[0m\u001b[37m\u001b[0m \u001b[1m1s\u001b[0m 5ms/step - accuracy: 0.9461 - auc: 0.9887 - loss: 0.1320 - val_accuracy: 0.9021 - val_auc: 0.0000e+00 - val_loss: 0.1956\n",
      "Epoch 109/200\n",
      "\u001b[1m124/124\u001b[0m \u001b[32m━━━━━━━━━━━━━━━━━━━━\u001b[0m\u001b[37m\u001b[0m \u001b[1m1s\u001b[0m 5ms/step - accuracy: 0.9500 - auc: 0.9888 - loss: 0.1307 - val_accuracy: 0.9042 - val_auc: 0.0000e+00 - val_loss: 0.1897\n",
      "Epoch 110/200\n",
      "\u001b[1m124/124\u001b[0m \u001b[32m━━━━━━━━━━━━━━━━━━━━\u001b[0m\u001b[37m\u001b[0m \u001b[1m1s\u001b[0m 6ms/step - accuracy: 0.9484 - auc: 0.9882 - loss: 0.1339 - val_accuracy: 0.9006 - val_auc: 0.0000e+00 - val_loss: 0.1972\n",
      "Epoch 111/200\n",
      "\u001b[1m124/124\u001b[0m \u001b[32m━━━━━━━━━━━━━━━━━━━━\u001b[0m\u001b[37m\u001b[0m \u001b[1m1s\u001b[0m 5ms/step - accuracy: 0.9439 - auc: 0.9875 - loss: 0.1376 - val_accuracy: 0.9047 - val_auc: 0.0000e+00 - val_loss: 0.1941\n",
      "Epoch 112/200\n",
      "\u001b[1m124/124\u001b[0m \u001b[32m━━━━━━━━━━━━━━━━━━━━\u001b[0m\u001b[37m\u001b[0m \u001b[1m1s\u001b[0m 6ms/step - accuracy: 0.9462 - auc: 0.9883 - loss: 0.1345 - val_accuracy: 0.9133 - val_auc: 0.0000e+00 - val_loss: 0.1743\n",
      "Epoch 113/200\n",
      "\u001b[1m124/124\u001b[0m \u001b[32m━━━━━━━━━━━━━━━━━━━━\u001b[0m\u001b[37m\u001b[0m \u001b[1m1s\u001b[0m 5ms/step - accuracy: 0.9486 - auc: 0.9879 - loss: 0.1329 - val_accuracy: 0.9016 - val_auc: 0.0000e+00 - val_loss: 0.1948\n"
     ]
    },
    {
     "data": {
      "text/plain": [
       "<keras.src.callbacks.history.History at 0x16ed450aba0>"
      ]
     },
     "execution_count": 55,
     "metadata": {},
     "output_type": "execute_result"
    }
   ],
   "source": [
    "early_stopping = EarlyStopping(monitor='val_loss', patience=20, restore_best_weights=True)\n",
    "model.fit(X_train_under,y_train_under,validation_split=0.2,epochs=200,batch_size=64,callbacks=[early_stopping],verbose=1)"
   ]
  },
  {
   "cell_type": "code",
   "execution_count": 56,
   "id": "d4670267",
   "metadata": {},
   "outputs": [
    {
     "name": "stdout",
     "output_type": "stream",
     "text": [
      "\u001b[1m79533/79533\u001b[0m \u001b[32m━━━━━━━━━━━━━━━━━━━━\u001b[0m\u001b[37m\u001b[0m \u001b[1m130s\u001b[0m 2ms/step\n",
      "              precision    recall  f1-score   support\n",
      "\n",
      "           0       1.00      0.98      0.99   2541763\n",
      "           1       0.05      0.91      0.09      3285\n",
      "\n",
      "    accuracy                           0.98   2545048\n",
      "   macro avg       0.52      0.95      0.54   2545048\n",
      "weighted avg       1.00      0.98      0.99   2545048\n",
      "\n"
     ]
    }
   ],
   "source": [
    "y_pred_proba = model.predict(X_test_pre)\n",
    "y_pred = (y_pred_proba > 0.5).astype(int).flatten()\n",
    "print(classification_report(y_test, y_pred))"
   ]
  },
  {
   "cell_type": "code",
   "execution_count": null,
   "id": "570381b1",
   "metadata": {},
   "outputs": [
    {
     "name": "stdout",
     "output_type": "stream",
     "text": [
      "Epoch 1/10\n",
      "\u001b[1m10426/10426\u001b[0m \u001b[32m━━━━━━━━━━━━━━━━━━━━\u001b[0m\u001b[37m\u001b[0m \u001b[1m95s\u001b[0m 9ms/step - accuracy: 0.9781 - auc: 0.9957 - loss: 0.0656 - val_accuracy: 0.8820 - val_auc: 0.0000e+00 - val_loss: 0.2952\n",
      "Epoch 2/10\n",
      "\u001b[1m10426/10426\u001b[0m \u001b[32m━━━━━━━━━━━━━━━━━━━━\u001b[0m\u001b[37m\u001b[0m \u001b[1m87s\u001b[0m 8ms/step - accuracy: 0.9820 - auc: 0.9966 - loss: 0.0552 - val_accuracy: 0.9549 - val_auc: 0.0000e+00 - val_loss: 0.1728\n",
      "Epoch 3/10\n",
      "\u001b[1m10426/10426\u001b[0m \u001b[32m━━━━━━━━━━━━━━━━━━━━\u001b[0m\u001b[37m\u001b[0m \u001b[1m82s\u001b[0m 8ms/step - accuracy: 0.9835 - auc: 0.9971 - loss: 0.0508 - val_accuracy: 0.8753 - val_auc: 0.0000e+00 - val_loss: 0.3231\n",
      "Epoch 4/10\n",
      "\u001b[1m10426/10426\u001b[0m \u001b[32m━━━━━━━━━━━━━━━━━━━━\u001b[0m\u001b[37m\u001b[0m \u001b[1m89s\u001b[0m 8ms/step - accuracy: 0.9845 - auc: 0.9974 - loss: 0.0480 - val_accuracy: 0.5630 - val_auc: 0.0000e+00 - val_loss: 0.7943\n",
      "Epoch 5/10\n",
      "\u001b[1m10426/10426\u001b[0m \u001b[32m━━━━━━━━━━━━━━━━━━━━\u001b[0m\u001b[37m\u001b[0m \u001b[1m83s\u001b[0m 8ms/step - accuracy: 0.9852 - auc: 0.9976 - loss: 0.0457 - val_accuracy: 0.9266 - val_auc: 0.0000e+00 - val_loss: 0.2276\n",
      "Epoch 6/10\n",
      "\u001b[1m10426/10426\u001b[0m \u001b[32m━━━━━━━━━━━━━━━━━━━━\u001b[0m\u001b[37m\u001b[0m \u001b[1m83s\u001b[0m 8ms/step - accuracy: 0.9858 - auc: 0.9977 - loss: 0.0437 - val_accuracy: 0.9616 - val_auc: 0.0000e+00 - val_loss: 0.1586\n",
      "Epoch 7/10\n",
      "\u001b[1m10426/10426\u001b[0m \u001b[32m━━━━━━━━━━━━━━━━━━━━\u001b[0m\u001b[37m\u001b[0m \u001b[1m85s\u001b[0m 8ms/step - accuracy: 0.9864 - auc: 0.9979 - loss: 0.0421 - val_accuracy: 0.9215 - val_auc: 0.0000e+00 - val_loss: 0.2593\n",
      "Epoch 8/10\n",
      "\u001b[1m10426/10426\u001b[0m \u001b[32m━━━━━━━━━━━━━━━━━━━━\u001b[0m\u001b[37m\u001b[0m \u001b[1m87s\u001b[0m 8ms/step - accuracy: 0.9869 - auc: 0.9980 - loss: 0.0406 - val_accuracy: 0.9500 - val_auc: 0.0000e+00 - val_loss: 0.1827\n",
      "Epoch 9/10\n",
      "\u001b[1m10426/10426\u001b[0m \u001b[32m━━━━━━━━━━━━━━━━━━━━\u001b[0m\u001b[37m\u001b[0m \u001b[1m84s\u001b[0m 8ms/step - accuracy: 0.9873 - auc: 0.9981 - loss: 0.0393 - val_accuracy: 0.9697 - val_auc: 0.0000e+00 - val_loss: 0.1341\n",
      "Epoch 10/10\n",
      "\u001b[1m10426/10426\u001b[0m \u001b[32m━━━━━━━━━━━━━━━━━━━━\u001b[0m\u001b[37m\u001b[0m \u001b[1m84s\u001b[0m 8ms/step - accuracy: 0.9875 - auc: 0.9982 - loss: 0.0385 - val_accuracy: 0.9796 - val_auc: 0.0000e+00 - val_loss: 0.1033\n"
     ]
    },
    {
     "data": {
      "text/plain": [
       "<keras.src.callbacks.history.History at 0x16ea0926570>"
      ]
     },
     "execution_count": 62,
     "metadata": {},
     "output_type": "execute_result"
    }
   ],
   "source": [
    "early_stopping = EarlyStopping(monitor='val_loss', patience=5, restore_best_weights=True)\n",
    "model.fit(X_res,y_res,validation_split=0.3,epochs=10,batch_size=512,callbacks=[early_stopping],verbose=1)"
   ]
  },
  {
   "cell_type": "code",
   "execution_count": 63,
   "id": "30ed8b79",
   "metadata": {},
   "outputs": [
    {
     "name": "stdout",
     "output_type": "stream",
     "text": [
      "\u001b[1m79533/79533\u001b[0m \u001b[32m━━━━━━━━━━━━━━━━━━━━\u001b[0m\u001b[37m\u001b[0m \u001b[1m137s\u001b[0m 2ms/step\n",
      "              precision    recall  f1-score   support\n",
      "\n",
      "           0       1.00      0.99      1.00   2541763\n",
      "           1       0.15      0.99      0.26      3285\n",
      "\n",
      "    accuracy                           0.99   2545048\n",
      "   macro avg       0.57      0.99      0.63   2545048\n",
      "weighted avg       1.00      0.99      1.00   2545048\n",
      "\n"
     ]
    }
   ],
   "source": [
    "y_pred_proba = model.predict(X_test_pre)\n",
    "y_pred = (y_pred_proba > 0.5).astype(int).flatten()\n",
    "print(classification_report(y_test, y_pred))"
   ]
  }
 ],
 "metadata": {
  "kernelspec": {
   "display_name": "Python 3",
   "language": "python",
   "name": "python3"
  },
  "language_info": {
   "codemirror_mode": {
    "name": "ipython",
    "version": 3
   },
   "file_extension": ".py",
   "mimetype": "text/x-python",
   "name": "python",
   "nbconvert_exporter": "python",
   "pygments_lexer": "ipython3",
   "version": "3.12.10"
  }
 },
 "nbformat": 4,
 "nbformat_minor": 5
}
